{
 "cells": [
  {
   "cell_type": "markdown",
   "metadata": {},
   "source": [
    "# Tutorial SEGOMOE via web services"
   ]
  },
  {
   "cell_type": "markdown",
   "metadata": {},
   "source": [
    "This notebook describes the usage of segomoe using web services exposed by WhatsOpt."
   ]
  },
  {
   "cell_type": "markdown",
   "metadata": {},
   "source": [
    "## Prerequisite"
   ]
  },
  {
   "cell_type": "markdown",
   "metadata": {},
   "source": [
    "### wop (WhatsOpt command line interface)"
   ]
  },
  {
   "cell_type": "markdown",
   "metadata": {},
   "source": [
    "You have to install the `wop` command:"
   ]
  },
  {
   "cell_type": "markdown",
   "metadata": {},
   "source": [
    "```bash\n",
    "pip install -U wop\n",
    "```"
   ]
  },
  {
   "cell_type": "markdown",
   "metadata": {},
   "source": [
    "You need to be logged in a WhatsOpt server either by using the <code>wop</code> command in a shell or the WhatsOpt API as follows:"
   ]
  },
  {
   "cell_type": "code",
   "execution_count": 1,
   "metadata": {},
   "outputs": [
    {
     "name": "stdout",
     "output_type": "stream",
     "text": [
      "You have to set your API key.\u001b[0m\n",
      "You can get it in your profile page on WhatsOpt (https://ether.onera.fr/whatsopt).\u001b[0m\n",
      "\u001b[32mPlease, copy/paste your API key below then hit return (characters are hidden).\u001b[0m\n"
     ]
    },
    {
     "name": "stdin",
     "output_type": "stream",
     "text": [
      "Your API key:  ································\n"
     ]
    },
    {
     "name": "stdout",
     "output_type": "stream",
     "text": [
      "\u001b[32mSuccessfully logged in to remote WhatsOpt https://ether.onera.fr/whatsopt\u001b[0m\n",
      "\u001b[0m\n"
     ]
    }
   ],
   "source": [
    "from whatsopt.whatsopt_client import WhatsOpt\n",
    "wop = WhatsOpt(url=\"https://ether.onera.fr/whatsopt\")\n",
    "ok = wop.login(echo=True)\n",
    "\n",
    "# If you have any trouble with the previous command \n",
    "# then logout to ensure to start from a clean slate and retry\n",
    "if not ok: \n",
    "    wop.logout() "
   ]
  },
  {
   "cell_type": "markdown",
   "metadata": {
    "tags": []
   },
   "source": [
    "To test if you are connected the following command should succeed"
   ]
  },
  {
   "cell_type": "code",
   "execution_count": 2,
   "metadata": {},
   "outputs": [
    {
     "name": "stdout",
     "output_type": "stream",
     "text": [
      "WhatsOpt 1.22.3 requires wop >= 1.20.0\u001b[0m\n",
      "You are using wop 2.1.0b1\u001b[0m\n"
     ]
    }
   ],
   "source": [
    "wop.check_versions()"
   ]
  },
  {
   "cell_type": "markdown",
   "metadata": {},
   "source": [
    "### SMT (Surrogate Modeling Toolbox)"
   ]
  },
  {
   "cell_type": "markdown",
   "metadata": {},
   "source": [
    "SMT is not required per se, but is used in this notebook to get optimized LHS sampling method."
   ]
  },
  {
   "cell_type": "markdown",
   "metadata": {},
   "source": [
    "```bash\n",
    "pip install smt\n",
    "```"
   ]
  },
  {
   "cell_type": "markdown",
   "metadata": {},
   "source": [
    "## Optimization without constraint"
   ]
  },
  {
   "cell_type": "markdown",
   "metadata": {},
   "source": [
    "### Objective function\n",
    "\n",
    "First we define the objective function we want to minimize"
   ]
  },
  {
   "cell_type": "code",
   "execution_count": 3,
   "metadata": {},
   "outputs": [],
   "source": [
    "import numpy as np\n",
    "\n",
    "def f_obj(x):\n",
    "    \"\"\"\n",
    "    Function Six-Hump Camel Back\n",
    "    2 global optimum y_opt =-1.0316 located at x_opt = (0.089842, -0.712656) or (-0.089842, 0.712656)\n",
    "    https://www.sfu.ca/~ssurjano/camel6.html\n",
    "    \"\"\"\n",
    "    x_ = np.atleast_2d(x)\n",
    "    x1 = np.array(x_)[:, 0]\n",
    "    x2 = np.array(x_)[:, 1]\n",
    "    val = 4*x1**2-2.1*x1**4+1./3.*x1**6+x1*x2-4*x2**2+4*x2**4\n",
    "    return np.atleast_2d(val).T"
   ]
  },
  {
   "cell_type": "markdown",
   "metadata": {
    "tags": []
   },
   "source": [
    "### Optimization"
   ]
  },
  {
   "cell_type": "markdown",
   "metadata": {},
   "source": [
    "First we create an optimization context to use the SEGOMOE optimizer with the design space <code>xlimits</code>."
   ]
  },
  {
   "cell_type": "code",
   "execution_count": 18,
   "metadata": {},
   "outputs": [],
   "source": [
    "from whatsopt.optimization import Optimization\n",
    "\n",
    "xlimits = [[-3, 3], [-2, 2]]\n",
    "optim = Optimization(xlimits, options={\"mod_obj__regr\": \"constant\", \"optimizer\": \"cobyla\"})"
   ]
  },
  {
   "cell_type": "markdown",
   "metadata": {},
   "source": [
    "We need to have an initial DOE (n_samples, nx) and the corresponding outputs y (n_samples, 1)."
   ]
  },
  {
   "cell_type": "code",
   "execution_count": 19,
   "metadata": {},
   "outputs": [
    {
     "name": "stdout",
     "output_type": "stream",
     "text": [
      "Initial DOE\n",
      "xdoe=[[-0.91502224  1.89017506]\n",
      " [ 2.57253436  0.83786997]\n",
      " [-2.32304511 -1.12821447]\n",
      " [ 1.65152355 -1.63067708]\n",
      " [ 0.0057155  -0.31036381]]\n",
      "ydoe=[[37.11048572]\n",
      " [32.43194792]\n",
      " [16.82595609]\n",
      " [17.00496851]\n",
      " [-0.34983144]]\n"
     ]
    }
   ],
   "source": [
    "import numpy as np\n",
    "# from smt.sampling_methods import LHS\n",
    "# lhs = LHS(xlimits=np.array(xlimits), criterion='ese')\n",
    "# xdoe = lhs(5)\n",
    "\n",
    "xdoe = np.array([[-0.91502224,  1.89017506],\n",
    " [ 2.57253436,  0.83786997],\n",
    " [-2.32304511, -1.12821447],\n",
    " [ 1.65152355, -1.63067708],\n",
    " [ 0.0057155,  -0.31036381]])\n",
    "ydoe = f_obj(xdoe)\n",
    "print(\"Initial DOE\")\n",
    "print(\"xdoe={}\".format(xdoe))\n",
    "print(\"ydoe={}\".format(ydoe))"
   ]
  },
  {
   "cell_type": "markdown",
   "metadata": {},
   "source": [
    "We initialize the optimizer with the inital DOE."
   ]
  },
  {
   "cell_type": "code",
   "execution_count": 20,
   "metadata": {},
   "outputs": [],
   "source": [
    "optim.tell_doe(xdoe, ydoe)"
   ]
  },
  {
   "cell_type": "markdown",
   "metadata": {},
   "source": [
    "We trigger the optimization using the \"ask and tell\" interface."
   ]
  },
  {
   "cell_type": "code",
   "execution_count": 21,
   "metadata": {},
   "outputs": [
    {
     "name": "stdout",
     "output_type": "stream",
     "text": [
      "0 x suggested = [0.5105824516906532, -0.3895314720981267] with status: valid point\n",
      "new y = [[0.19223091]]\n",
      "Found minimum y_opt = [[-0.34983144]] at x_opt = [[ 0.0057155  -0.31036381]]\n"
     ]
    }
   ],
   "source": [
    "# We loop using the iteration budget\n",
    "n_iter = 1\n",
    "for i in range(n_iter):\n",
    "    x_suggested, status, x_best, y_best = optim.ask()\n",
    "    print(\"{} x suggested = {} with status: {}\".format(i, x_suggested, Optimization.STATUSES[status]))\n",
    "\n",
    "    # compute objective function at the suggested point\n",
    "    new_y = f_obj(x_suggested)\n",
    "    print(\"new y = {}\".format(new_y))\n",
    "\n",
    "    optim.tell(x_suggested, new_y)\n",
    "    if optim.is_solution_reached():\n",
    "        print(\"Solution is reached\")\n",
    "        break\n",
    "\n",
    "x_opt, y_opt = optim.get_result()\n",
    "print(f\"Found minimum y_opt = {y_opt} at x_opt = {x_opt}\")"
   ]
  },
  {
   "cell_type": "code",
   "execution_count": 8,
   "metadata": {},
   "outputs": [
    {
     "data": {
      "text/plain": [
       "(array([[ 0.08984755, -0.71265286]]), array([[-1.03162845]]))"
      ]
     },
     "execution_count": 8,
     "metadata": {},
     "output_type": "execute_result"
    }
   ],
   "source": [
    "optim.get_result()"
   ]
  },
  {
   "cell_type": "code",
   "execution_count": 9,
   "metadata": {},
   "outputs": [
    {
     "data": {
      "text/plain": [
       "(array([[-0.91502224,  1.89017506],\n",
       "        [ 2.57253436,  0.83786997],\n",
       "        [-2.32304511, -1.12821447],\n",
       "        [ 1.65152355, -1.63067708],\n",
       "        [ 0.0057155 , -0.31036381],\n",
       "        [ 0.51058108, -0.38952938],\n",
       "        [-0.43397872, -0.34841607],\n",
       "        [ 0.15895667, -0.22111638],\n",
       "        [ 0.07747435, -0.34265178],\n",
       "        [ 0.07463824, -0.41646938],\n",
       "        [ 0.09964009, -0.76109891],\n",
       "        [ 0.1106892 , -0.70313999],\n",
       "        [ 0.03994732, -0.7144226 ],\n",
       "        [ 0.09114955, -0.71228802],\n",
       "        [ 0.0883047 , -0.71184589],\n",
       "        [ 0.0899261 , -0.71232543],\n",
       "        [ 0.08986774, -0.71255056],\n",
       "        [ 0.08988833, -0.71265405],\n",
       "        [ 0.08984755, -0.71265286],\n",
       "        [ 0.08986795, -0.71265729]]),\n",
       " array([[37.11048572],\n",
       "        [32.43194792],\n",
       "        [16.82595609],\n",
       "        [17.00496851],\n",
       "        [-0.34983144],\n",
       "        [ 0.19223289],\n",
       "        [ 0.4056637 ],\n",
       "        [-0.1214223 ],\n",
       "        [-0.41711352],\n",
       "        [-0.58231808],\n",
       "        [-1.01119413],\n",
       "        [-1.02901105],\n",
       "        [-1.02172885],\n",
       "        [-1.0316202 ],\n",
       "        [-1.03161511],\n",
       "        [-1.0316275 ],\n",
       "        [-1.03162836],\n",
       "        [-1.03162844],\n",
       "        [-1.03162845],\n",
       "        [-1.03162845]]))"
      ]
     },
     "execution_count": 9,
     "metadata": {},
     "output_type": "execute_result"
    }
   ],
   "source": [
    "optim.get_history()"
   ]
  },
  {
   "cell_type": "markdown",
   "metadata": {},
   "source": [
    "For convenience, the previous optimization loop is available as the <code>run</code> method of the optimization object."
   ]
  },
  {
   "cell_type": "code",
   "execution_count": 10,
   "metadata": {},
   "outputs": [],
   "source": [
    "# to reset the initial DOE, otherwise optimization will go on from previous state\n",
    "# optim.tell_doe(xdoe, ydoe)\n",
    "\n",
    "# run the optimization loop again\n",
    "# optim.run(f_obj, 15)"
   ]
  },
  {
   "cell_type": "markdown",
   "metadata": {},
   "source": [
    "## Optimization with constraints"
   ]
  },
  {
   "cell_type": "markdown",
   "metadata": {},
   "source": [
    "### Objective and constraints functions"
   ]
  },
  {
   "cell_type": "markdown",
   "metadata": {},
   "source": [
    "We define objective and constraints function and we build a grouped function which allows to evaluate all in one go."
   ]
  },
  {
   "cell_type": "code",
   "execution_count": 11,
   "metadata": {},
   "outputs": [],
   "source": [
    "import numpy as np\n",
    "\n",
    "# Objective\n",
    "def G24(point):\n",
    "    \"\"\"\n",
    "    Function G24\n",
    "    1 global optimum y_opt = -5.5080 at x_opt =(2.3295, 3.1785)\n",
    "    \"\"\"\n",
    "    p = np.atleast_2d(point)\n",
    "    return - p[:, 0] - p[:, 1]\n",
    "\n",
    "# Constraints < 0\n",
    "def G24_c1(point):\n",
    "    p = np.atleast_2d(point)\n",
    "    return (- 2.0 * p[:, 0] ** 4.0\n",
    "            + 8.0 * p[:, 0] ** 3.0 \n",
    "            - 8.0 * p[:, 0] ** 2.0 \n",
    "            + p[:, 1] - 2.0)\n",
    "\n",
    "def G24_c2(point):\n",
    "    p = np.atleast_2d(point)\n",
    "    return (-4.0 * p[:, 0] ** 4.0\n",
    "            + 32.0 * p[:, 0] ** 3.0\n",
    "            - 88.0 * p[:, 0] ** 2.0\n",
    "            + 96.0 * p[:, 0]\n",
    "            + p[:, 1] - 36.0)\n",
    "\n",
    "# Grouped evaluation\n",
    "def f_grouped(point):\n",
    "    p = np.atleast_2d(point)\n",
    "    return np.array([G24(p), G24_c1(p), G24_c2(p)]).T"
   ]
  },
  {
   "cell_type": "code",
   "execution_count": 12,
   "metadata": {},
   "outputs": [
    {
     "data": {
      "text/plain": [
       "array([[-3., -2.,  2.]])"
      ]
     },
     "execution_count": 12,
     "metadata": {},
     "output_type": "execute_result"
    }
   ],
   "source": [
    "f_grouped([1, 2])"
   ]
  },
  {
   "cell_type": "markdown",
   "metadata": {},
   "source": [
    "### Optimization"
   ]
  },
  {
   "cell_type": "markdown",
   "metadata": {},
   "source": [
    "First we create an optimization context to use the SEGOMOE optimizer with the design space <code>xlimits</code> and the constraints specifications <code>cstr_specs</code>."
   ]
  },
  {
   "cell_type": "code",
   "execution_count": 13,
   "metadata": {},
   "outputs": [],
   "source": [
    "from whatsopt.optimization import Optimization\n",
    "\n",
    "xlimits = [[0, 3], [0, 4]]\n",
    "cstr_specs = 2*[{\"type\": '<', \"bound\": 0.0}]\n",
    "optim = Optimization(xlimits, cstr_specs)"
   ]
  },
  {
   "cell_type": "markdown",
   "metadata": {},
   "source": [
    "Constraint type can be iether <code><</code>, <code>=</code> or <code>></code>. A tolerance may be specified using the <code>tol</code> key. Constraints defaults are :"
   ]
  },
  {
   "cell_type": "code",
   "execution_count": 14,
   "metadata": {},
   "outputs": [
    {
     "name": "stdout",
     "output_type": "stream",
     "text": [
      "{'type': '<', 'bound': 0.0, 'tol': 0.0001}\n"
     ]
    }
   ],
   "source": [
    "print(Optimization.DEFAULT_CSTR)"
   ]
  },
  {
   "cell_type": "code",
   "execution_count": 15,
   "metadata": {},
   "outputs": [
    {
     "name": "stdout",
     "output_type": "stream",
     "text": [
      "Initial DOE\n",
      "xdoe=[[0.15323798 2.99759722]\n",
      " [1.42089032 3.70531155]\n",
      " [2.11944613 2.16863473]\n",
      " [2.93258199 0.64944028]\n",
      " [0.89151314 0.97427108]]\n",
      "ydoe=[[ -3.1508352    0.83742592 -20.24502151]\n",
      " [ -5.12620187   0.3511429    1.9383689 ]\n",
      " [ -4.28808086   0.04045512  -1.71804047]\n",
      " [ -3.58202226 -16.30962187   0.58153747]\n",
      " [ -1.86578422  -2.97892835   0.76497741]]\n"
     ]
    }
   ],
   "source": [
    "import numpy as np\n",
    "from smt.sampling_methods import LHS\n",
    "lhs = LHS(xlimits=np.array(xlimits), criterion='ese')\n",
    "\n",
    "xdoe = lhs(5)\n",
    "ydoe = f_grouped(xdoe)\n",
    "print(\"Initial DOE\")\n",
    "print(\"xdoe={}\".format(xdoe))\n",
    "print(\"ydoe={}\".format(ydoe))"
   ]
  },
  {
   "cell_type": "code",
   "execution_count": 16,
   "metadata": {},
   "outputs": [],
   "source": [
    "optim.tell_doe(xdoe, ydoe)"
   ]
  },
  {
   "cell_type": "code",
   "execution_count": 17,
   "metadata": {},
   "outputs": [
    {
     "name": "stdout",
     "output_type": "stream",
     "text": [
      "0 x suggested = [1.7518169688627327, 3.9147891853484142] with status: invalid point\n",
      "x_best=[[2.119446131883831, 2.1686347324782353]]\n",
      "y_best=[[-4.288080864362066]]\n",
      "new y = [[-5.66660615  1.53673711  0.39237204]]\n",
      "1 x suggested = [3.0, 2.645117760650228] with status: invalid point\n",
      "x_best=[[2.119446131883831, 2.1686347324782353]]\n",
      "y_best=[[-4.288080864362066]]\n",
      "new y = [[ -5.64511776 -17.35488224   2.64511776]]\n",
      "2 x suggested = [2.5468845233455153, 4.0] with status: invalid point\n",
      "x_best=[[2.119446131883831, 2.1686347324782353]]\n",
      "y_best=[[-4.288080864362066]]\n",
      "new y = [[-6.54688452 -1.88007188  2.03485965]]\n",
      "3 x suggested = [3.0, 3.9999999999999996] with status: invalid point\n",
      "x_best=[[2.119446131883831, 2.1686347324782353]]\n",
      "y_best=[[-4.288080864362066]]\n",
      "new y = [[ -7. -16.   4.]]\n",
      "4 x suggested = [2.4004480009925775, 3.0232239329821438] with status: invalid point\n",
      "x_best=[[2.119446131883831, 2.1686347324782353]]\n",
      "y_best=[[-4.288080864362066]]\n",
      "new y = [[-5.42367193 -0.82479689  0.20323322]]\n",
      "5 x suggested = [2.359122708281385, 3.0803873823089276] with status: invalid point\n",
      "x_best=[[2.119446131883831, 2.1686347324782353]]\n",
      "y_best=[[-4.288080864362066]]\n",
      "new y = [[-5.43951009 -0.35515756  0.0456082 ]]\n",
      "6 x suggested = [2.325851715936728, 3.1895205514819134] with status: invalid point\n",
      "x_best=[[2.119446131883831, 2.1686347324782353]]\n",
      "y_best=[[-4.288080864362066]]\n",
      "new y = [[-5.51537227  0.04074796 -0.00614093]]\n",
      "7 x suggested = [2.3296026319027954, 3.177539933610316] with status: invalid point\n",
      "x_best=[[2.119446131883831, 2.1686347324782353]]\n",
      "y_best=[[-4.288080864362066]]\n",
      "new y = [[-5.50714257e+00 -1.62629931e-03 -5.65675615e-04]]\n",
      "8 x suggested = [2.3295328692482236, 3.178433652792712] with status: valid point\n",
      "x_best=[[2.3296026319027954, 3.177539933610316]]\n",
      "y_best=[[-5.507142565513112]]\n",
      "new y = [[-5.50796652e+00 -1.62883678e-04  1.34778993e-07]]\n",
      "9 x suggested = [2.3295201974891624, 3.1784930941263743] with status: valid point\n",
      "x_best=[[2.3295328692482236, 3.178433652792712]]\n",
      "y_best=[[-5.5079665220409355]]\n",
      "new y = [[-5.50801329e+00  1.99143533e-08  2.00630623e-08]]\n",
      "10 x suggested = [2.3295205181272745, 3.1784939312468032] with status: valid point\n",
      "x_best=[[2.3295201974891624, 3.1784930941263743]]\n",
      "y_best=[[-5.508013291615537]]\n",
      "new y = [[-5.50801445e+00 -1.76084008e-06  2.36413035e-06]]\n",
      "Value [2.3295205181272745, 3.1784939312468032] already told index 14 with y = [-5.50801329e+00  1.99143533e-08  2.00630623e-08]\n",
      "Solution is reached\n",
      "Found optimum y_opt = [[-5.50801329]] at x_opt = [[2.3295202  3.17849309]]\n"
     ]
    },
    {
     "data": {
      "text/plain": [
       "(array([[2.3295202 , 3.17849309]]), array([[-5.50801329]]))"
      ]
     },
     "execution_count": 17,
     "metadata": {},
     "output_type": "execute_result"
    }
   ],
   "source": [
    "optim.run(f_grouped, n_iter=20, with_best=True)"
   ]
  },
  {
   "cell_type": "markdown",
   "metadata": {},
   "source": [
    "Note: if the suggested x has already been told or very close a previous suggestion (see <code>numpy.allclose</code>), the solution is considered to be reached."
   ]
  },
  {
   "cell_type": "code",
   "execution_count": 18,
   "metadata": {},
   "outputs": [
    {
     "data": {
      "text/plain": [
       "'solution reached'"
      ]
     },
     "execution_count": 18,
     "metadata": {},
     "output_type": "execute_result"
    }
   ],
   "source": [
    "optim.get_status()"
   ]
  },
  {
   "cell_type": "code",
   "execution_count": 19,
   "metadata": {},
   "outputs": [
    {
     "data": {
      "text/plain": [
       "(array([[0.15323798, 2.99759722],\n",
       "        [1.42089032, 3.70531155],\n",
       "        [2.11944613, 2.16863473],\n",
       "        [2.93258199, 0.64944028],\n",
       "        [0.89151314, 0.97427108],\n",
       "        [1.75181697, 3.91478919],\n",
       "        [3.        , 2.64511776],\n",
       "        [2.54688452, 4.        ],\n",
       "        [3.        , 4.        ],\n",
       "        [2.400448  , 3.02322393],\n",
       "        [2.35912271, 3.08038738],\n",
       "        [2.32585172, 3.18952055],\n",
       "        [2.32960263, 3.17753993],\n",
       "        [2.32953287, 3.17843365],\n",
       "        [2.3295202 , 3.17849309]]),\n",
       " array([[-3.15083520e+00,  8.37425918e-01, -2.02450215e+01],\n",
       "        [-5.12620187e+00,  3.51142896e-01,  1.93836890e+00],\n",
       "        [-4.28808086e+00,  4.04551236e-02, -1.71804047e+00],\n",
       "        [-3.58202226e+00, -1.63096219e+01,  5.81537466e-01],\n",
       "        [-1.86578422e+00, -2.97892835e+00,  7.64977412e-01],\n",
       "        [-5.66660615e+00,  1.53673711e+00,  3.92372035e-01],\n",
       "        [-5.64511776e+00, -1.73548822e+01,  2.64511776e+00],\n",
       "        [-6.54688452e+00, -1.88007188e+00,  2.03485965e+00],\n",
       "        [-7.00000000e+00, -1.60000000e+01,  4.00000000e+00],\n",
       "        [-5.42367193e+00, -8.24796892e-01,  2.03233221e-01],\n",
       "        [-5.43951009e+00, -3.55157558e-01,  4.56082039e-02],\n",
       "        [-5.51537227e+00,  4.07479573e-02, -6.14093192e-03],\n",
       "        [-5.50714257e+00, -1.62629931e-03, -5.65675615e-04],\n",
       "        [-5.50796652e+00, -1.62883678e-04,  1.34778993e-07],\n",
       "        [-5.50801329e+00,  1.99143533e-08,  2.00630623e-08]]))"
      ]
     },
     "execution_count": 19,
     "metadata": {},
     "output_type": "execute_result"
    }
   ],
   "source": [
    "optim.get_history()"
   ]
  },
  {
   "cell_type": "code",
   "execution_count": null,
   "metadata": {},
   "outputs": [],
   "source": []
  }
 ],
 "metadata": {
  "kernelspec": {
   "display_name": "Python 3 (ipykernel)",
   "language": "python",
   "name": "python3"
  },
  "language_info": {
   "codemirror_mode": {
    "name": "ipython",
    "version": 3
   },
   "file_extension": ".py",
   "mimetype": "text/x-python",
   "name": "python",
   "nbconvert_exporter": "python",
   "pygments_lexer": "ipython3",
   "version": "3.8.5"
  }
 },
 "nbformat": 4,
 "nbformat_minor": 4
}
