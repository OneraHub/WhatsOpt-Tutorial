{
 "cells": [
  {
   "cell_type": "markdown",
   "metadata": {},
   "source": [
    "# Tutorial SEGOMOE via web services"
   ]
  },
  {
   "cell_type": "markdown",
   "metadata": {},
   "source": [
    "This notebook describes the usage of segomoe using web services exposed by WhatsOpt."
   ]
  },
  {
   "cell_type": "markdown",
   "metadata": {},
   "source": [
    "## Prerequisite"
   ]
  },
  {
   "cell_type": "markdown",
   "metadata": {},
   "source": [
    "### wop (WhatsOpt command line interface)"
   ]
  },
  {
   "cell_type": "markdown",
   "metadata": {},
   "source": [
    "You have to install the `wop` command:"
   ]
  },
  {
   "cell_type": "markdown",
   "metadata": {},
   "source": [
    "```bash\n",
    "pip install -U wop\n",
    "```"
   ]
  },
  {
   "cell_type": "markdown",
   "metadata": {},
   "source": [
    "You need to be logged in a WhatsOpt server either by using the <code>wop</code> command in a shell or the WhatsOpt API as follows:"
   ]
  },
  {
   "cell_type": "code",
   "execution_count": 1,
   "metadata": {},
   "outputs": [
    {
     "name": "stdout",
     "output_type": "stream",
     "text": [
      "\u001b[32mSuccessfully logged in to remote WhatsOpt https://selene.onecert.fr/whatsopt\u001b[0m\n",
      "\u001b[0m\n"
     ]
    }
   ],
   "source": [
    "from whatsopt.whatsopt_client import WhatsOpt\n",
    "wop = WhatsOpt(url=\"https://ether.onera.fr/whatsopt\")\n",
    "ok = wop.login(echo=True)"
   ]
  },
  {
   "cell_type": "markdown",
   "metadata": {
    "tags": []
   },
   "source": [
    "To test if you are connected the following command should succeed"
   ]
  },
  {
   "cell_type": "code",
   "execution_count": 2,
   "metadata": {},
   "outputs": [
    {
     "name": "stdout",
     "output_type": "stream",
     "text": [
      "WhatsOpt 1.30.0 requires wop >= 1.20.0\u001b[0m\n",
      "You are using wop 2.5.5\u001b[0m\n"
     ]
    }
   ],
   "source": [
    "wop.check_versions()"
   ]
  },
  {
   "cell_type": "markdown",
   "metadata": {},
   "source": [
    "### SMT (Surrogate Modeling Toolbox)"
   ]
  },
  {
   "cell_type": "markdown",
   "metadata": {},
   "source": [
    "SMT is not required per se, but is used in this notebook to get optimized LHS sampling method."
   ]
  },
  {
   "cell_type": "markdown",
   "metadata": {},
   "source": [
    "```bash\n",
    "pip install smt\n",
    "```"
   ]
  },
  {
   "cell_type": "markdown",
   "metadata": {},
   "source": [
    "## Optimization without constraint"
   ]
  },
  {
   "cell_type": "markdown",
   "metadata": {},
   "source": [
    "### Objective function\n",
    "\n",
    "First we define the objective function we want to minimize"
   ]
  },
  {
   "cell_type": "code",
   "execution_count": 3,
   "metadata": {},
   "outputs": [],
   "source": [
    "import numpy as np\n",
    "\n",
    "def f_obj(x):\n",
    "    \"\"\"\n",
    "    Function Six-Hump Camel Back\n",
    "    2 global optimum y_opt =-1.0316 located at x_opt = (0.089842, -0.712656) or (-0.089842, 0.712656)\n",
    "    https://www.sfu.ca/~ssurjano/camel6.html\n",
    "    \"\"\"\n",
    "    x_ = np.atleast_2d(x)\n",
    "    x1 = np.array(x_)[:, 0]\n",
    "    x2 = np.array(x_)[:, 1]\n",
    "    val = 4*x1**2-2.1*x1**4+1./3.*x1**6+x1*x2-4*x2**2+4*x2**4\n",
    "    return np.atleast_2d(val).T"
   ]
  },
  {
   "cell_type": "markdown",
   "metadata": {
    "tags": []
   },
   "source": [
    "### Optimization"
   ]
  },
  {
   "cell_type": "markdown",
   "metadata": {},
   "source": [
    "First we create an optimization context to use the SEGOMOE optimizer with the design space <code>xlimits</code>."
   ]
  },
  {
   "cell_type": "code",
   "execution_count": 4,
   "metadata": {},
   "outputs": [],
   "source": [
    "from whatsopt.optimization import Optimization\n",
    "\n",
    "xlimits = [[-3, 3], [-2, 2]]\n",
    "optim = Optimization(xlimits, options={\"mod_obj__regr\": \"constant\", \"optimizer\": \"cobyla\"})"
   ]
  },
  {
   "cell_type": "markdown",
   "metadata": {},
   "source": [
    "We need to have an initial DOE (n_samples, nx) and the corresponding outputs y (n_samples, 1)."
   ]
  },
  {
   "cell_type": "code",
   "execution_count": 5,
   "metadata": {},
   "outputs": [
    {
     "name": "stdout",
     "output_type": "stream",
     "text": [
      "Initial DOE\n",
      "xdoe=[[-0.91502224  1.89017506]\n",
      " [ 2.57253436  0.83786997]\n",
      " [-2.32304511 -1.12821447]\n",
      " [ 1.65152355 -1.63067708]\n",
      " [ 0.0057155  -0.31036381]]\n",
      "ydoe=[[37.11048572]\n",
      " [32.43194792]\n",
      " [16.82595609]\n",
      " [17.00496851]\n",
      " [-0.34983144]]\n"
     ]
    }
   ],
   "source": [
    "import numpy as np\n",
    "# from smt.sampling_methods import LHS\n",
    "# lhs = LHS(xlimits=np.array(xlimits), criterion='ese')\n",
    "# xdoe = lhs(5)\n",
    "\n",
    "xdoe = np.array([[-0.91502224,  1.89017506],\n",
    " [ 2.57253436,  0.83786997],\n",
    " [-2.32304511, -1.12821447],\n",
    " [ 1.65152355, -1.63067708],\n",
    " [ 0.0057155,  -0.31036381]])\n",
    "ydoe = f_obj(xdoe)\n",
    "print(\"Initial DOE\")\n",
    "print(\"xdoe={}\".format(xdoe))\n",
    "print(\"ydoe={}\".format(ydoe))"
   ]
  },
  {
   "cell_type": "markdown",
   "metadata": {},
   "source": [
    "We initialize the optimizer with the inital DOE."
   ]
  },
  {
   "cell_type": "code",
   "execution_count": 6,
   "metadata": {},
   "outputs": [],
   "source": [
    "optim.tell_doe(xdoe, ydoe)"
   ]
  },
  {
   "cell_type": "markdown",
   "metadata": {},
   "source": [
    "We trigger the optimization using the \"ask and tell\" interface."
   ]
  },
  {
   "cell_type": "code",
   "execution_count": 7,
   "metadata": {},
   "outputs": [
    {
     "name": "stdout",
     "output_type": "stream",
     "text": [
      "0 x suggested = [0.6569666173623493, -0.3805074037288991] with status: pending\n",
      "new y = [[0.6167541]]\n",
      "Found minimum y_opt = [[-0.34983144]] at x_opt = [[ 0.0057155  -0.31036381]]\n"
     ]
    }
   ],
   "source": [
    "# We loop using the iteration budget\n",
    "n_iter = 1\n",
    "for i in range(n_iter):\n",
    "    x_suggested, status, x_best, y_best = optim.ask()\n",
    "    print(\"{} x suggested = {} with status: {}\".format(i, x_suggested, Optimization.STATUSES[status]))\n",
    "\n",
    "    # compute objective function at the suggested point\n",
    "    new_y = f_obj(x_suggested)\n",
    "    print(\"new y = {}\".format(new_y))\n",
    "\n",
    "    optim.tell(x_suggested, new_y)\n",
    "    if optim.is_solution_reached():\n",
    "        print(\"Solution is reached\")\n",
    "        break\n",
    "\n",
    "x_opt, y_opt = optim.get_result()\n",
    "print(f\"Found minimum y_opt = {y_opt} at x_opt = {x_opt}\")"
   ]
  },
  {
   "cell_type": "code",
   "execution_count": 8,
   "metadata": {},
   "outputs": [
    {
     "data": {
      "text/plain": [
       "(array([[ 0.0057155 , -0.31036381]]), array([[-0.34983144]]))"
      ]
     },
     "execution_count": 8,
     "metadata": {},
     "output_type": "execute_result"
    }
   ],
   "source": [
    "optim.get_result()"
   ]
  },
  {
   "cell_type": "code",
   "execution_count": 9,
   "metadata": {},
   "outputs": [
    {
     "data": {
      "text/plain": [
       "(array([[-0.91502224,  1.89017506],\n",
       "        [ 2.57253436,  0.83786997],\n",
       "        [-2.32304511, -1.12821447],\n",
       "        [ 1.65152355, -1.63067708],\n",
       "        [ 0.0057155 , -0.31036381],\n",
       "        [ 0.65696662, -0.3805074 ]]),\n",
       " array([[37.11048572],\n",
       "        [32.43194792],\n",
       "        [16.82595609],\n",
       "        [17.00496851],\n",
       "        [-0.34983144],\n",
       "        [ 0.6167541 ]]))"
      ]
     },
     "execution_count": 9,
     "metadata": {},
     "output_type": "execute_result"
    }
   ],
   "source": [
    "optim.get_history()"
   ]
  },
  {
   "cell_type": "markdown",
   "metadata": {},
   "source": [
    "For convenience, the previous optimization loop is available as the <code>run</code> method of the optimization object."
   ]
  },
  {
   "cell_type": "code",
   "execution_count": 10,
   "metadata": {},
   "outputs": [
    {
     "name": "stdout",
     "output_type": "stream",
     "text": [
      "0 x suggested = [0.6569656661437774, -0.380507500727063] with status: pending\n",
      "new y = [[0.61675122]]\n",
      "1 x suggested = [-0.7155110447997332, -0.3242126449938182] with status: pending\n",
      "new y = [[1.39786209]]\n",
      "2 x suggested = [0.05876967977330048, -0.4721529010461281] with status: pending\n",
      "new y = [[-0.70688304]]\n",
      "3 x suggested = [0.07165374464285135, -0.4770547137390563] with status: pending\n",
      "new y = [[-0.71685302]]\n",
      "4 x suggested = [0.176210768034101, -0.5108365742185258] with status: pending\n",
      "new y = [[-0.73925668]]\n",
      "5 x suggested = [0.1374141522708519, -0.5192673495923205] with status: pending\n",
      "new y = [[-0.78430507]]\n",
      "6 x suggested = [0.0008375686109762055, -0.7890770033050413] with status: pending\n",
      "new y = [[-0.94049335]]\n",
      "7 x suggested = [0.02437176953276468, -0.6964257656715734] with status: pending\n",
      "new y = [[-1.013699]]\n",
      "8 x suggested = [0.04906193142278131, -0.699058831032127] with status: pending\n",
      "new y = [[-1.02416877]]\n",
      "9 x suggested = [0.08000685620908185, -0.7106182418464171] with status: pending\n",
      "new y = [[-1.03123677]]\n",
      "10 x suggested = [0.09069948371330833, -0.7139901146039994] with status: pending\n",
      "new y = [[-1.03161214]]\n",
      "11 x suggested = [-0.5821597441162795, 0.2849407125399735] with status: pending\n",
      "new y = [[0.66313187]]\n",
      "12 x suggested = [0.08888009120027218, -0.7145038605756161] with status: pending\n",
      "new y = [[-1.03159505]]\n",
      "13 x suggested = [0.08979346063310814, -0.7126314204111874] with status: pending\n",
      "new y = [[-1.03162844]]\n",
      "14 x suggested = [0.08979441259427523, -0.7126291297502105] with status: pending\n",
      "x_best=[[0.08979346063310814, -0.7126314204111874]]\n",
      "y_best=[[-1.031628440401478]]\n",
      "new y = [[-1.03162844]]\n",
      "Found optimum y_opt = [[-1.03162844]] at x_opt = [[ 0.08979346 -0.71263142]]\n"
     ]
    },
    {
     "data": {
      "text/plain": [
       "(array([[ 0.08979346, -0.71263142]]), array([[-1.03162844]]))"
      ]
     },
     "execution_count": 10,
     "metadata": {},
     "output_type": "execute_result"
    }
   ],
   "source": [
    "# to reset the initial DOE, otherwise optimization will go on from previous state\n",
    "optim.tell_doe(xdoe, ydoe)\n",
    "\n",
    "# run the optimization loop again\n",
    "optim.run(f_obj, 15)"
   ]
  },
  {
   "cell_type": "markdown",
   "metadata": {},
   "source": [
    "## Optimization with constraints"
   ]
  },
  {
   "cell_type": "markdown",
   "metadata": {},
   "source": [
    "### Objective and constraints functions"
   ]
  },
  {
   "cell_type": "markdown",
   "metadata": {},
   "source": [
    "We define objective and constraints function and we build a grouped function which allows to evaluate all in one go."
   ]
  },
  {
   "cell_type": "code",
   "execution_count": 11,
   "metadata": {},
   "outputs": [],
   "source": [
    "import numpy as np\n",
    "\n",
    "# Objective\n",
    "def G24(point):\n",
    "    \"\"\"\n",
    "    Function G24\n",
    "    1 global optimum y_opt = -5.5080 at x_opt =(2.3295, 3.1785)\n",
    "    \"\"\"\n",
    "    p = np.atleast_2d(point)\n",
    "    return - p[:, 0] - p[:, 1]\n",
    "\n",
    "# Constraints < 0\n",
    "def G24_c1(point):\n",
    "    p = np.atleast_2d(point)\n",
    "    return (- 2.0 * p[:, 0] ** 4.0\n",
    "            + 8.0 * p[:, 0] ** 3.0 \n",
    "            - 8.0 * p[:, 0] ** 2.0 \n",
    "            + p[:, 1] - 2.0)\n",
    "\n",
    "def G24_c2(point):\n",
    "    p = np.atleast_2d(point)\n",
    "    return (-4.0 * p[:, 0] ** 4.0\n",
    "            + 32.0 * p[:, 0] ** 3.0\n",
    "            - 88.0 * p[:, 0] ** 2.0\n",
    "            + 96.0 * p[:, 0]\n",
    "            + p[:, 1] - 36.0)\n",
    "\n",
    "# Grouped evaluation\n",
    "def f_grouped(point):\n",
    "    p = np.atleast_2d(point)\n",
    "    return np.array([G24(p), G24_c1(p), G24_c2(p)]).T"
   ]
  },
  {
   "cell_type": "code",
   "execution_count": 12,
   "metadata": {},
   "outputs": [
    {
     "data": {
      "text/plain": [
       "array([[-3., -2.,  2.]])"
      ]
     },
     "execution_count": 12,
     "metadata": {},
     "output_type": "execute_result"
    }
   ],
   "source": [
    "f_grouped([1, 2])"
   ]
  },
  {
   "cell_type": "markdown",
   "metadata": {},
   "source": [
    "### Optimization"
   ]
  },
  {
   "cell_type": "markdown",
   "metadata": {},
   "source": [
    "First we create an optimization context to use the SEGOMOE optimizer with the design space <code>xlimits</code> and the constraints specifications <code>cstr_specs</code>."
   ]
  },
  {
   "cell_type": "code",
   "execution_count": 13,
   "metadata": {},
   "outputs": [],
   "source": [
    "from whatsopt.optimization import Optimization\n",
    "\n",
    "xlimits = [[0, 3], [0, 4]]\n",
    "cstr_specs = 2*[{\"type\": '<', \"bound\": 0.0}]\n",
    "optim = Optimization(xlimits, cstr_specs)"
   ]
  },
  {
   "cell_type": "markdown",
   "metadata": {},
   "source": [
    "Constraint type can be iether <code><</code>, <code>=</code> or <code>></code>. A tolerance may be specified using the <code>tol</code> key. Constraints defaults are :"
   ]
  },
  {
   "cell_type": "code",
   "execution_count": 14,
   "metadata": {},
   "outputs": [
    {
     "name": "stdout",
     "output_type": "stream",
     "text": [
      "{'type': '<', 'bound': 0.0, 'tol': 0.0001}\n"
     ]
    }
   ],
   "source": [
    "print(Optimization.DEFAULT_CSTR)"
   ]
  },
  {
   "cell_type": "code",
   "execution_count": 15,
   "metadata": {},
   "outputs": [
    {
     "name": "stdout",
     "output_type": "stream",
     "text": [
      "Initial DOE\n",
      "xdoe=[[1.2814057  0.37895828]\n",
      " [1.88375454 1.99871634]\n",
      " [0.27592919 1.58883291]\n",
      " [2.84710887 2.87094557]\n",
      " [0.670875   3.31379397]]\n",
      "ydoe=[[ -1.66036398  -3.3168269   -0.55660358]\n",
      " [ -3.88247088  -0.09718631  -1.89391001]\n",
      " [ -1.8647621   -0.86378891 -13.97293212]\n",
      " [ -5.71805444 -10.76272085   2.55193171]\n",
      " [ -3.98466897  -0.27638083   0.96325569]]\n"
     ]
    }
   ],
   "source": [
    "import numpy as np\n",
    "from smt.sampling_methods import LHS\n",
    "lhs = LHS(xlimits=np.array(xlimits), criterion='ese')\n",
    "\n",
    "xdoe = lhs(5)\n",
    "ydoe = f_grouped(xdoe)\n",
    "print(\"Initial DOE\")\n",
    "print(\"xdoe={}\".format(xdoe))\n",
    "print(\"ydoe={}\".format(ydoe))"
   ]
  },
  {
   "cell_type": "code",
   "execution_count": 16,
   "metadata": {},
   "outputs": [],
   "source": [
    "optim.tell_doe(xdoe, ydoe)"
   ]
  },
  {
   "cell_type": "code",
   "execution_count": 17,
   "metadata": {},
   "outputs": [
    {
     "name": "stdout",
     "output_type": "stream",
     "text": [
      "0 x suggested = [3.0, 4.0] with status: pending\n",
      "x_best=[[1.8837545418465553, 1.9987163420721328]]\n",
      "y_best=[[-3.882470883918688]]\n",
      "new y = [[ -7. -16.   4.]]\n",
      "1 x suggested = [2.6339276698424148, 4.0] with status: pending\n",
      "x_best=[[1.8837545418465553, 1.9987163420721328]]\n",
      "y_best=[[-3.882470883918688]]\n",
      "new y = [[-6.63392767 -3.57592729  2.56893469]]\n",
      "2 x suggested = [1.9619938323210693, 4.0] with status: pending\n",
      "x_best=[[1.8837545418465553, 1.9987163420721328]]\n",
      "y_best=[[-3.882470883918688]]\n",
      "new y = [[-5.96199383  1.98887927  0.0115474 ]]\n",
      "3 x suggested = [1.7541979688308198, 3.9999999999999996] with status: pending\n",
      "x_best=[[1.8837545418465553, 1.9987163420721328]]\n",
      "y_best=[[-3.882470883918688]]\n",
      "new y = [[-5.75419797  1.62815826  0.46874746]]\n",
      "4 x suggested = [1.6164881524304522, 3.129226885043262] with status: pending\n",
      "x_best=[[1.8837545418465553, 1.9987163420721328]]\n",
      "y_best=[[-3.882470883918688]]\n",
      "new y = [[-4.74571504  0.36056983  0.2193459 ]]\n",
      "5 x suggested = [2.4609749898836544, 2.3232655479226] with status: pending\n",
      "x_best=[[1.8837545418465553, 1.9987163420721328]]\n",
      "y_best=[[-3.882470883918688]]\n",
      "new y = [[-4.78424054 -2.25067862 -0.15737242]]\n",
      "6 x suggested = [2.2574357509282326, 2.915888890130958] with status: pending\n",
      "x_best=[[2.4609749898836544, 2.3232655479226]]\n",
      "y_best=[[-4.784240537806254]]\n",
      "new y = [[-5.17332464  0.24043064 -0.57149431]]\n",
      "7 x suggested = [2.3470447389173175, 3.034134231960921] with status: pending\n",
      "x_best=[[2.4609749898836544, 2.3232655479226]]\n",
      "y_best=[[-4.784240537806254]]\n",
      "new y = [[-5.38117897 -0.29278247 -0.06036858]]\n",
      "8 x suggested = [2.329913133601806, 3.1569111100103515] with status: pending\n",
      "x_best=[[2.3470447389173175, 3.034134231960921]]\n",
      "y_best=[[-5.3811789708782385]]\n",
      "new y = [[-5.48682424 -0.02479278 -0.0197344 ]]\n",
      "9 x suggested = [2.329548696973524, 3.178210019504108] with status: pending\n",
      "x_best=[[2.329913133601806, 3.1569111100103515]]\n",
      "y_best=[[-5.4868242436121575]]\n",
      "new y = [[-5.50775872e+00 -5.15754792e-04 -1.49107289e-04]]\n",
      "10 x suggested = [2.329519386580326, 3.1784960626155048] with status: pending\n",
      "x_best=[[2.329548696973524, 3.178210019504108]]\n",
      "y_best=[[-5.507758716477632]]\n",
      "new y = [[-5.50801545e+00  9.60911609e-06 -8.22582493e-07]]\n",
      "11 x suggested = [2.329520169618969, 3.178493008210006] with status: pending\n",
      "x_best=[[2.329519386580326, 3.1784960626155048]]\n",
      "y_best=[[-5.508015449195831]]\n",
      "new y = [[-5.50801318e+00  1.61546177e-07 -1.96838677e-07]]\n",
      "12 x suggested = [2.329520224453915, 3.1784983581367037] with status: pending\n",
      "x_best=[[2.329519386580326, 3.1784960626155048]]\n",
      "y_best=[[-5.508015449195831]]\n",
      "new y = [[-5.50801858e+00  5.06376899e-06  5.41080321e-06]]\n",
      "13 x suggested = [1.5843741039458274, 2.889266598083086] with status: pending\n",
      "x_best=[[2.329520224453915, 3.1784983581367037]]\n",
      "y_best=[[-5.508018582590619]]\n",
      "new y = [[-4.4736407   0.02200391  0.1518625 ]]\n",
      "14 x suggested = [1.5961084769672955, 2.7951606580493564] with status: pending\n",
      "x_best=[[2.329520224453915, 3.1784983581367037]]\n",
      "y_best=[[-5.508018582590619]]\n",
      "new y = [[-4.39126914 -0.03599866 -0.00625589]]\n",
      "15 x suggested = [1.59988623130101, 2.8199125400859595] with status: pending\n",
      "x_best=[[2.329520224453915, 3.1784983581367037]]\n",
      "y_best=[[-5.508018582590619]]\n",
      "new y = [[-4.41979877e+00  3.63038508e-04 -1.87578555e-03]]\n",
      "16 x suggested = [2.329520572748633, 3.1784956522788153] with status: pending\n",
      "x_best=[[2.329520224453915, 3.1784983581367037]]\n",
      "y_best=[[-5.508018582590619]]\n",
      "new y = [[-5.50801623e+00 -4.85768763e-07  4.34187400e-06]]\n",
      "17 x suggested = [1.599620540048639, 2.8203643296638328] with status: pending\n",
      "x_best=[[2.329520224453915, 3.1784983581367037]]\n",
      "y_best=[[-5.508018582590619]]\n",
      "new y = [[-4.41998487e+00 -1.41712127e-06  4.90501041e-06]]\n",
      "18 x suggested = [1.59962127633778, 2.820363516668587] with status: pending\n",
      "x_best=[[2.329520224453915, 3.1784983581367037]]\n",
      "y_best=[[-5.508018582590619]]\n",
      "new y = [[-4.41998479e+00  3.19408300e-08  1.31404441e-07]]\n",
      "19 x suggested = [0.2615534938176516, 3.999999999792093] with status: pending\n",
      "x_best=[[2.329520224453915, 3.1784983581367037]]\n",
      "y_best=[[-5.508018582590619]]\n",
      "new y = [[ -4.26155349   1.58650172 -12.35711077]]\n",
      "Found optimum y_opt = [[-5.50801858]] at x_opt = [[2.32952022 3.17849836]]\n"
     ]
    },
    {
     "data": {
      "text/plain": [
       "(array([[2.32952022, 3.17849836]]), array([[-5.50801858]]))"
      ]
     },
     "execution_count": 17,
     "metadata": {},
     "output_type": "execute_result"
    }
   ],
   "source": [
    "optim.run(f_grouped, n_iter=20, with_best=True)"
   ]
  },
  {
   "cell_type": "markdown",
   "metadata": {},
   "source": [
    "Note: if the suggested x has already been told or very close a previous suggestion (see <code>numpy.allclose</code>), the solution is considered to be reached."
   ]
  },
  {
   "cell_type": "code",
   "execution_count": 18,
   "metadata": {},
   "outputs": [
    {
     "data": {
      "text/plain": [
       "'pending'"
      ]
     },
     "execution_count": 18,
     "metadata": {},
     "output_type": "execute_result"
    }
   ],
   "source": [
    "optim.get_status()"
   ]
  },
  {
   "cell_type": "code",
   "execution_count": 19,
   "metadata": {},
   "outputs": [
    {
     "data": {
      "text/plain": [
       "(array([[1.2814057 , 0.37895828],\n",
       "        [1.88375454, 1.99871634],\n",
       "        [0.27592919, 1.58883291],\n",
       "        [2.84710887, 2.87094557],\n",
       "        [0.670875  , 3.31379397],\n",
       "        [3.        , 4.        ],\n",
       "        [2.63392767, 4.        ],\n",
       "        [1.96199383, 4.        ],\n",
       "        [1.75419797, 4.        ],\n",
       "        [1.61648815, 3.12922689],\n",
       "        [2.46097499, 2.32326555],\n",
       "        [2.25743575, 2.91588889],\n",
       "        [2.34704474, 3.03413423],\n",
       "        [2.32991313, 3.15691111],\n",
       "        [2.3295487 , 3.17821002],\n",
       "        [2.32951939, 3.17849606],\n",
       "        [2.32952017, 3.17849301],\n",
       "        [2.32952022, 3.17849836],\n",
       "        [1.5843741 , 2.8892666 ],\n",
       "        [1.59610848, 2.79516066],\n",
       "        [1.59988623, 2.81991254],\n",
       "        [2.32952057, 3.17849565],\n",
       "        [1.59962054, 2.82036433],\n",
       "        [1.59962128, 2.82036352],\n",
       "        [0.26155349, 4.        ]]),\n",
       " array([[-1.66036398e+00, -3.31682690e+00, -5.56603581e-01],\n",
       "        [-3.88247088e+00, -9.71863079e-02, -1.89391001e+00],\n",
       "        [-1.86476210e+00, -8.63788913e-01, -1.39729321e+01],\n",
       "        [-5.71805444e+00, -1.07627209e+01,  2.55193171e+00],\n",
       "        [-3.98466897e+00, -2.76380831e-01,  9.63255695e-01],\n",
       "        [-7.00000000e+00, -1.60000000e+01,  4.00000000e+00],\n",
       "        [-6.63392767e+00, -3.57592729e+00,  2.56893469e+00],\n",
       "        [-5.96199383e+00,  1.98887927e+00,  1.15474043e-02],\n",
       "        [-5.75419797e+00,  1.62815826e+00,  4.68747461e-01],\n",
       "        [-4.74571504e+00,  3.60569831e-01,  2.19345904e-01],\n",
       "        [-4.78424054e+00, -2.25067862e+00, -1.57372422e-01],\n",
       "        [-5.17332464e+00,  2.40430641e-01, -5.71494313e-01],\n",
       "        [-5.38117897e+00, -2.92782474e-01, -6.03685849e-02],\n",
       "        [-5.48682424e+00, -2.47927776e-02, -1.97343964e-02],\n",
       "        [-5.50775872e+00, -5.15754792e-04, -1.49107289e-04],\n",
       "        [-5.50801545e+00,  9.60911609e-06, -8.22582493e-07],\n",
       "        [-5.50801318e+00,  1.61546177e-07, -1.96838677e-07],\n",
       "        [-5.50801858e+00,  5.06376899e-06,  5.41080321e-06],\n",
       "        [-4.47364070e+00,  2.20039059e-02,  1.51862500e-01],\n",
       "        [-4.39126914e+00, -3.59986644e-02, -6.25589338e-03],\n",
       "        [-4.41979877e+00,  3.63038508e-04, -1.87578555e-03],\n",
       "        [-5.50801623e+00, -4.85768763e-07,  4.34187400e-06],\n",
       "        [-4.41998487e+00, -1.41712127e-06,  4.90501041e-06],\n",
       "        [-4.41998479e+00,  3.19408300e-08,  1.31404441e-07],\n",
       "        [-4.26155349e+00,  1.58650172e+00, -1.23571108e+01]]))"
      ]
     },
     "execution_count": 19,
     "metadata": {},
     "output_type": "execute_result"
    }
   ],
   "source": [
    "optim.get_history()"
   ]
  }
 ],
 "metadata": {
  "kernelspec": {
   "display_name": "Python 3 (ipykernel)",
   "language": "python",
   "name": "python3"
  },
  "language_info": {
   "codemirror_mode": {
    "name": "ipython",
    "version": 3
   },
   "file_extension": ".py",
   "mimetype": "text/x-python",
   "name": "python",
   "nbconvert_exporter": "python",
   "pygments_lexer": "ipython3",
   "version": "3.11.5"
  }
 },
 "nbformat": 4,
 "nbformat_minor": 4
}
