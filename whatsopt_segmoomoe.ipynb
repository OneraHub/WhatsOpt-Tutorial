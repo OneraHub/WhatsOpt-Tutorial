{
 "cells": [
  {
   "cell_type": "markdown",
   "id": "906c60b2-6e36-4973-8e37-26dee3b70628",
   "metadata": {},
   "source": [
    "# Tutorial SEGMOOMOE via web services"
   ]
  },
  {
   "cell_type": "markdown",
   "id": "7e18b3fe-d4a9-4dee-a018-b84b9b886f98",
   "metadata": {},
   "source": [
    "This notebook describes the usage of segomoe using web services exposed by WhatsOpt."
   ]
  },
  {
   "cell_type": "markdown",
   "id": "00e62f3f-9083-4ada-be9a-89424157c7cd",
   "metadata": {},
   "source": [
    "## Prerequisite"
   ]
  },
  {
   "cell_type": "markdown",
   "id": "0b6b7499-f491-4670-b984-3ecaaec3920f",
   "metadata": {},
   "source": [
    "### wop (WhatsOpt command line interface)"
   ]
  },
  {
   "cell_type": "markdown",
   "id": "986d14c3-df47-469c-a87b-c8ed4dd9955b",
   "metadata": {},
   "source": [
    "You have to install the `wop` command:"
   ]
  },
  {
   "cell_type": "markdown",
   "id": "639e5e0e-5845-4064-a18e-146abcababfc",
   "metadata": {},
   "source": [
    "```bash\n",
    "pip install -U wop \n",
    "```"
   ]
  },
  {
   "cell_type": "markdown",
   "id": "c2e45518-3777-49ab-88a2-067064b762c8",
   "metadata": {},
   "source": [
    "You need to be logged in a WhatsOpt server either by using the <code>wop</code> command in a shell or the WhatsOpt API as follows:"
   ]
  },
  {
   "cell_type": "code",
   "execution_count": 1,
   "id": "7ec06212-f547-4c08-8cc3-a255476da2f5",
   "metadata": {},
   "outputs": [
    {
     "name": "stdout",
     "output_type": "stream",
     "text": [
      "\u001b[32mSuccessfully logged in to remote WhatsOpt https://ether.onera.fr/whatsopt\u001b[0m\n",
      "\u001b[0m\n"
     ]
    }
   ],
   "source": [
    "from whatsopt.whatsopt_client import WhatsOpt\n",
    "wop = WhatsOpt(url=\"https://ether.onera.fr/whatsopt\")\n",
    "ok = wop.login(echo=True)\n",
    "\n",
    "# If you have any trouble with the previous command \n",
    "# then logout to ensure to start from a clean slate and retry\n",
    "if not ok: \n",
    "    wop.logout() "
   ]
  },
  {
   "cell_type": "markdown",
   "id": "b7521d79-6369-4dc9-888d-dd7b740ebd43",
   "metadata": {
    "tags": []
   },
   "source": [
    "To test if you are connected the following command should succeed"
   ]
  },
  {
   "cell_type": "code",
   "execution_count": 2,
   "id": "95134148-d6aa-4c8b-a56b-ff4ff6c65828",
   "metadata": {},
   "outputs": [
    {
     "name": "stdout",
     "output_type": "stream",
     "text": [
      "WhatsOpt 1.22.2 requires wop >= 1.20.0\u001b[0m\n",
      "You are using wop 2.1.0b0\u001b[0m\n"
     ]
    }
   ],
   "source": [
    "wop.check_versions()"
   ]
  },
  {
   "cell_type": "markdown",
   "id": "b412214f-55e1-42e7-a289-61ef84ef3208",
   "metadata": {},
   "source": [
    "### SMT (Surrogate Modeling Toolbox)"
   ]
  },
  {
   "cell_type": "markdown",
   "id": "98a3aa47-5765-4d0b-b10c-2bfbc1611337",
   "metadata": {},
   "source": [
    "SMT is not required per se, but is used in this notebook to get optimized LHS sampling method."
   ]
  },
  {
   "cell_type": "markdown",
   "id": "229baf86-dfbe-4185-b6a1-287ec05fcb74",
   "metadata": {},
   "source": [
    "```bash\n",
    "pip install smt\n",
    "```"
   ]
  },
  {
   "cell_type": "markdown",
   "id": "ce3073a9-da6e-49a1-8f46-c2ee15b830fb",
   "metadata": {},
   "source": [
    "## Optimization with constraints"
   ]
  },
  {
   "cell_type": "markdown",
   "id": "64941ab0-48d1-4b94-b58d-d522c6e33a20",
   "metadata": {},
   "source": [
    "### Objective function\n",
    "\n",
    "First we define the objective function we want to minimize"
   ]
  },
  {
   "cell_type": "code",
   "execution_count": 3,
   "id": "9881542b-ed47-416b-a50d-f2c2e6f7022f",
   "metadata": {},
   "outputs": [],
   "source": [
    "import numpy as np\n",
    "from smt.applications.mixed_integer import FLOAT, INT\n",
    "\n",
    "def fun(x):  # function with 2 objectives\n",
    "    x = np.atleast_2d(x)\n",
    "    f1 = x[:, 0] - x[:, 1] * x[:, 2]\n",
    "    f2 = 4 * x[:, 0] ** 2 - 4 * x[:, 0] ** x[:, 2] + 1 + x[:, 1]\n",
    "    f3 = x[:, 0] ** 2\n",
    "    return np.hstack((np.atleast_2d(f1).T, np.atleast_2d(f2).T, np.atleast_2d(f3).T))\n",
    "\n",
    "\n",
    "def g1(x):  # constraint to force x < 0.8\n",
    "    x = np.atleast_2d(x)\n",
    "    return np.atleast_2d(x[:, 0] - 0.8).T\n",
    "\n",
    "\n",
    "def g2(x):  # constraint to force x > 0.2\n",
    "    x = np.atleast_2d(x)\n",
    "    return np.atleast_2d(0.2 - x[:, 0]).T\n",
    "\n",
    "\n",
    "def f_grouped(x):\n",
    "    resfun = fun(x)\n",
    "    resg1 = g1(x)\n",
    "    resg2 = g2(x)\n",
    "    res = np.hstack((resfun, resg1, resg2))\n",
    "    return res"
   ]
  },
  {
   "cell_type": "markdown",
   "id": "f0c69cac-3fb4-4a34-8c95-21048505f453",
   "metadata": {
    "tags": []
   },
   "source": [
    "### Optimization"
   ]
  },
  {
   "cell_type": "markdown",
   "id": "84cda9f5-100f-4695-a9b8-01689a299312",
   "metadata": {},
   "source": [
    "First we create an optimization context to use the SEGMOOMOE optimizer with the design space <code>xlimits</code>."
   ]
  },
  {
   "cell_type": "code",
   "execution_count": 4,
   "id": "2c4aa810-694c-4a6c-8cc4-b558c9a94e9a",
   "metadata": {},
   "outputs": [],
   "source": [
    "from whatsopt.mooptimization import MOOptimization, FLOAT, INT\n",
    "\n",
    "xtypes = [{\"type\": FLOAT, \"limits\": [0., 1.]},\n",
    "          {\"type\": INT, \"limits\": [0, 3]},\n",
    "          {\"type\": INT, \"limits\": [0, 3]}]\n",
    "\n",
    "cstr_specs = 2*[{\"type\": '<', \"bound\": 0.0}]\n",
    "\n",
    "options={\"n_clusters\": 0, \"n_start\": 10, \"criterion\": \"PI\", \"pop_size\": 30, \"n_gen\": 30, \"verbose\": True, \"debug\": True}\n",
    "\n",
    "optim = MOOptimization(xtypes, n_obj=3, cstr_specs=cstr_specs, options=options)"
   ]
  },
  {
   "cell_type": "markdown",
   "id": "15dc798a-eb78-4acd-8c9c-3630685ed581",
   "metadata": {},
   "source": [
    "We need to have an initial DOE (n_samples, nx) and the corresponding outputs y (n_samples, 1)."
   ]
  },
  {
   "cell_type": "code",
   "execution_count": 5,
   "id": "211969ff-52cb-42e8-9cc6-78bfcd7450a7",
   "metadata": {},
   "outputs": [
    {
     "name": "stdout",
     "output_type": "stream",
     "text": [
      "Initial DOE\n",
      "xdoe=[[0.36691555 0.         1.        ]\n",
      " [0.58432706 1.         1.        ]\n",
      " [0.09227899 1.         2.        ]\n",
      " [0.95274182 1.         2.        ]\n",
      " [0.72873502 1.         3.        ]\n",
      " [0.87115983 2.         1.        ]\n",
      " [0.24346361 2.         3.        ]\n",
      " [0.4221473  2.         0.        ]\n",
      " [0.10886813 2.         1.        ]\n",
      " [0.65557784 3.         2.        ]\n",
      " [0.39532629 2.         0.        ]]\n",
      "ydoe=[[ 0.36691555  0.07084588  0.13462702 -0.43308445 -0.16691555]\n",
      " [-0.41567294  1.02844421  0.34143811 -0.21567294 -0.38432706]\n",
      " [-1.90772101  2.          0.00851541 -0.70772101  0.10772101]\n",
      " [-1.04725818  2.          0.90771698  0.15274182 -0.75274182]\n",
      " [-2.27126498  2.5762262   0.53105473 -0.07126498 -0.52873502]\n",
      " [-1.12884017  2.55103848  0.75891945  0.07115983 -0.67115983]\n",
      " [-5.75653639  3.17937335  0.05927453 -0.55653639 -0.04346361]\n",
      " [ 0.4221473  -0.28716663  0.17820834 -0.3778527  -0.2221473 ]\n",
      " [-1.89113187  2.61193656  0.01185227 -0.69113187  0.09113187]\n",
      " [-5.34442216  4.          0.4297823  -0.14442216 -0.45557784]\n",
      " [ 0.39532629 -0.3748685   0.15628288 -0.40467371 -0.19532629]]\n"
     ]
    }
   ],
   "source": [
    "import numpy as np\n",
    "# from smt.sampling_methods import LHS\n",
    "# lhs = LHS(xlimits=np.array(xlimits), criterion='ese')\n",
    "# xdoe = lhs(5)\n",
    "\n",
    "xdoe = np.array(\n",
    "    [        \n",
    "     [0.36691555, 0.,        1.        ],\n",
    "     [0.58432706, 1.,       1.        ],\n",
    "     [0.09227899, 1.,         2.        ],\n",
    "     [0.95274182, 1.,         2.        ],\n",
    "     [0.72873502, 1.,         3.        ],\n",
    "     [0.87115983, 2.,         1.        ],\n",
    "     [0.24346361, 2.,         3.        ],\n",
    "     [0.4221473 , 2.,         0.        ],\n",
    "     [0.10886813, 2.,         1.        ],\n",
    "     [0.65557784, 3.,         2.        ],\n",
    "     [0.39532629, 2.,         0.        ]\n",
    "    ]\n",
    ")\n",
    "ydoe = f_grouped(xdoe)\n",
    "print(\"Initial DOE\")\n",
    "print(\"xdoe={}\".format(xdoe))\n",
    "print(\"ydoe={}\".format(ydoe))"
   ]
  },
  {
   "cell_type": "markdown",
   "id": "3d34f4b1-b2a6-4352-a42f-8cc357b2e554",
   "metadata": {},
   "source": [
    "We initialize the optimizer with the inital DOE."
   ]
  },
  {
   "cell_type": "code",
   "execution_count": 6,
   "id": "598bb14c-16a2-48b8-96cb-7ddc1b6aabbc",
   "metadata": {},
   "outputs": [],
   "source": [
    "optim.tell_doe(xdoe, ydoe)"
   ]
  },
  {
   "cell_type": "markdown",
   "id": "a21afff9-d50d-4459-bf8c-83c149e9e5ef",
   "metadata": {},
   "source": [
    "We trigger the optimization using the \"ask and tell\" interface."
   ]
  },
  {
   "cell_type": "code",
   "execution_count": 7,
   "id": "6cd0c88f-49c9-408b-8c7e-bb9cafe1fb3c",
   "metadata": {},
   "outputs": [
    {
     "name": "stdout",
     "output_type": "stream",
     "text": [
      "0 x suggested = [0.22551914855701133, 3.0, 1.0] with status: valid point\n",
      "new y = [[-2.77448085  3.30135895  0.05085889 -0.57448085 -0.02551915]]\n",
      "1 x suggested = [0.3916331175359278, 1.0, 1.0] with status: valid point\n",
      "new y = [[-0.60836688  1.04697352  0.1533765  -0.40836688 -0.19163312]]\n",
      "Found approx pareto y_opt = [[-5.759582114765303, 3.178996061831344, 0.060950745522340366], [-1.0706073834669039, 2.024251386367329, 0.7141219260251254], [0.3924548714638407, -0.37423790178367033, 0.1546337831944528], [-6.715590913255226, 2.238692719201108, 0.24781707426633254], [-0.258911316841995, 1.7152775356721865, 0.04156651321522414], [-1.0353258989267422, 1.9000160080301245, 0.6371008429788545], [-1.7197066989632734, 2.214999952279676, 0.5448390664112407], [-5.790678122556858, 3.089522005884157, 0.08616346269207986], [-2.243730961609703, 2.2386927090330215, 0.28006136833295175], [-5.210588632718002, 2.238692709801892, 0.22839608482139714], [-1.7651262433225559, 2.2265242346971057, 0.4552019384422714], [-3.687599757688365, 2.238692709279134, 0.39673508633247934], [-3.621980435021549, 2.23869272501192, 0.11734975312935561], [-0.4674324617604486, 1.506679022548333, 0.18539140016974254], [-3.977052579938424, 2.2386927319557968, 0.12506385698169073], [0.16998177046567808, 0.4860300942444815, 0.094888051860122], [-5.612360782641625, 2.3365564368003766, 0.21365647851874175], [-0.5993203873608053, 0.9516956982538471, 0.31833715378065386], [-5.739844060608305, 2.541371740803127, 0.15798016667980505], [0.09313944171476796, 0.7939055307123908, 0.08300096613072411], [0.13804478869950731, 0.3077300145325499, 0.14062723319532755], [-1.69356532032133, 2.059594360559203, 0.234766101918558], [-5.78829579060051, 2.804755438659457, 0.12153356856899192], [0.27235383647779043, 0.033569390653734654, 0.11453647235636014], [-6.711906335435843, 2.2386927171455326, 0.22354148748587097], [-0.047937483298076344, 1.2553731775615615, 0.0644083879524942], [0.2991290062832228, -0.08400893907851792, 0.12096651849625778], [-0.020595360787304617, 1.1765085604168126, 0.06776921885426318], [-1.8064944647175334, 2.2354128149184023, 0.3445450224921979], [0.38342566800287825, -0.365921381455808, 0.14988879517236212]] at x_opt = [[0.2463577305597959, 2.0, 3.0], [0.7873464634404064, 1.0, 1.0], [0.39319904626776336, 2.0, 0.0], [0.44423454936369766, 3.0, 3.0], [0.21218671824884594, 2.0, 0.0], [0.7621196869673476, 1.0, 1.0], [0.7331267982827828, 1.0, 2.0], [0.2892467167062081, 2.0, 3.0], [4.976805110995519e-06, 0.0, 3.0], [0.004933343400882889, 3.0, 3.0], [0.7034569827366637, 1.0, 2.0], [0.9998705722423367, 3.0, 3.0], [0.1373920915270143, 1.0, 3.0], [0.5174751056335308, 0.0, 1.0], [0.35186684019860287, 2.0, 2.0], [0.3040951606803233, 2.0, 0.0], [0.46083392791027383, 2.0, 3.0], [0.6239706595093958, 1.0, 1.0], [0.3973317030433272, 2.0, 3.0], [0.2841836261678427, 2.0, 0.0], [0.4160687199083829, 0.0, 1.0], [0.16972145525169724, 1.0, 2.0], [0.34644147823241456, 2.0, 3.0], [0.33587342717413265, 2.0, 0.0], [0.4256891153819481, 3.0, 3.0], [0.2525640086346237, 2.0, 0.0], [0.34580743245959616, 2.0, 0.0], [0.25831805741000297, 2.0, 0.0], [0.6535483052053742, 1.0, 2.0], [0.386983490102213, 2.0, 0.0]]\n"
     ]
    }
   ],
   "source": [
    "# We loop using the iteration budget\n",
    "n_iter = 2\n",
    "with_best=False\n",
    "for i in range(n_iter):\n",
    "    with_best = with_best or (i == n_iter - 1)\n",
    "    x_suggested, status, x_opt, y_opt = optim.ask(with_best)\n",
    "    print(\"{} x suggested = {} with status: {}\".format(i, x_suggested, MOOptimization.STATUSES[status]))\n",
    "\n",
    "    # compute objective function at the suggested point\n",
    "    new_y = f_grouped(x_suggested)\n",
    "    print(\"new y = {}\".format(new_y))\n",
    "\n",
    "    optim.tell(x_suggested, new_y)\n",
    "         \n",
    "print(\"Found approx pareto y_opt = {} at x_opt = {}\".format(y_opt, x_opt))"
   ]
  },
  {
   "cell_type": "code",
   "execution_count": 8,
   "id": "68041015-33b9-4cd1-877a-79ce5fb525d3",
   "metadata": {},
   "outputs": [
    {
     "data": {
      "image/png": "[encoded data removed]",
      "text/plain": [
       "<Figure size 432x288 with 1 Axes>"
      ]
     },
     "metadata": {
      "needs_background": "light"
     },
     "output_type": "display_data"
    },
    {
     "data": {
      "image/png": "[encoded data removed]",
      "text/plain": [
       "<Figure size 432x288 with 1 Axes>"
      ]
     },
     "metadata": {
      "needs_background": "light"
     },
     "output_type": "display_data"
    },
    {
     "data": {
      "image/png": "[encoded data removed]",
      "text/plain": [
       "<Figure size 432x288 with 1 Axes>"
      ]
     },
     "metadata": {
      "needs_background": "light"
     },
     "output_type": "display_data"
    }
   ],
   "source": [
    "import matplotlib.pyplot as plt\n",
    "\n",
    "x_opt = np.array(x_opt)\n",
    "y_opt = np.array(y_opt)\n",
    "\n",
    "plt.figure()\n",
    "plt.scatter(x_opt[:,0], x_opt[:,1], marker='x',label = 'approx BO')\n",
    "plt.xlabel('$x_0$')\n",
    "plt.ylabel('$x_1$')\n",
    "plt.legend()\n",
    "plt.title(\"design space\")\n",
    "plt.show()\n",
    "\n",
    "\n",
    "plt.figure()\n",
    "plt.scatter(x_opt[:,0], x_opt[:,2], marker='x',label = 'approx BO')\n",
    "plt.xlabel('$x_0$')\n",
    "plt.ylabel('$x_2$')\n",
    "plt.legend()\n",
    "plt.title(\"design space\")\n",
    "plt.show()\n",
    "\n",
    "plt.figure()\n",
    "plt.scatter( y_opt[:,0],  y_opt[:,1],marker='x', label = 'approx BO')\n",
    "plt.xlabel('f1')\n",
    "plt.ylabel('f2')\n",
    "plt.legend()\n",
    "plt.title(\"objective space\")\n",
    "plt.show()"
   ]
  },
  {
   "cell_type": "code",
   "execution_count": 9,
   "id": "7505d5f0-3ecc-44e8-a20b-7db24caba112",
   "metadata": {},
   "outputs": [],
   "source": [
    "optim.tell_doe(xdoe, ydoe)"
   ]
  },
  {
   "cell_type": "code",
   "execution_count": 10,
   "id": "b3b2dff3-bafb-4886-a0d1-3d888630919b",
   "metadata": {},
   "outputs": [
    {
     "name": "stdout",
     "output_type": "stream",
     "text": [
      "0 x suggested = [0.7964018758271046, 3.0, 3.0] with status: valid point\n",
      "new y = [[-8.20359812e+00  4.51653328e+00  6.34255948e-01 -3.59812417e-03\n",
      "  -5.96401876e-01]]\n",
      "1 x suggested = [0.20230492611129244, 3.0, 3.0] with status: valid point\n",
      "new y = [[-8.79769507e+00  4.13058997e+00  4.09272831e-02 -5.97695074e-01\n",
      "  -2.30492611e-03]]\n",
      "2 x suggested = [0.5011198260695624, 1.0, 1.0] with status: valid point\n",
      "new y = [[-0.49888017  1.00000502  0.25112108 -0.29888017 -0.30111983]]\n",
      "3 x suggested = [0.2000010030148385, 3.0, 2.0] with status: valid point\n",
      "new y = [[-5.79999900e+00  4.00000000e+00  4.00004012e-02 -5.99998997e-01\n",
      "  -1.00301484e-06]]\n",
      "4 x suggested = [0.5914676347473176, 1.0, 3.0] with status: valid point\n",
      "x_best=[[0.20519806200253976, 2.0, 3.0], [0.3421611104462972, 1.0, 0.0], [0.21298585699820932, 0.0, 2.0], [0.205020037190084, 3.0, 3.0], [0.9261337763384468, 0.0, 3.0], [0.544309804131578, 0.0, 0.0], [0.7904229837684503, 0.0, 3.0], [8.722785937742561e-05, 3.0, 3.0], [0.9088782088524803, 1.0, 3.0], [0.07451590553593468, 2.0, 3.0], [0.7920513795753936, 1.0, 3.0], [0.21282543657233816, 1.0, 1.0], [0.034860140356416436, 3.0, 3.0], [0.237562238676497, 0.0, 1.0], [0.24501136567972714, 2.0, 2.0], [0.8846362939514849, 2.0, 3.0], [0.2327831177734373, 1.0, 2.0], [0.8676564693502651, 1.0, 3.0], [0.8038664977649699, 1.0, 3.0], [0.23789558375385983, 1.0, 0.0], [0.8150593010174881, 0.0, 3.0], [0.48059409654386165, 0.0, 0.0], [0.8180967353231521, 1.0, 3.0], [0.9997271428099331, 0.0, 3.0], [0.8336062716617669, 0.0, 3.0], [0.5187427385782173, 0.0, 0.0], [0.2767678518981862, 1.0, 1.0], [0.0568697585144895, 1.0, 3.0], [0.49689796353059595, 0.0, 0.0], [0.019295655257531574, 3.0, 3.0]]\n",
      "y_best=[[-6.20821111725652, 3.0665209611286848, 0.04141092356417664], [0.04107005882417791, -1.0448816995301429, 0.13418097065945578], [0.7034026487443521, 0.7835457959679277, 0.0509686270060451], [-8.785621282657825, 4.130879807627812, 0.04141811281499436], [-2.3628932377961624, 1.0316953516533236, 0.8992429090934139], [-0.2612676164653056, -0.2623046603932848, 0.34463512888496983], [-1.3388223913802015, 1.0127985718715409, 0.6173040994206487], [-7.500392072126843, 3.9160664131921052, 0.2038456245704986], [-4.112450451702091, 1.7854596750731204, 0.8962783858052814], [-6.567612413674916, 3.123894928479389, 0.10453632965862378], [-3.358049935021836, 1.9292894076807576, 0.6218466467323243], [-0.6760714733132738, 0.5067130370864974, 0.08123780595582974], [-7.984236065445261, 4.024865654107022, 0.15336821178291504], [0.3718293175928511, -0.10477821980650814, 0.10127612798788183], [-3.8779666308297114, 2.5687457592946554, 0.07990449904965113], [-6.51959265349612, 3.0655024319558724, 0.871176281224591], [-1.2253128094591765, 1.4226094400187348, 0.06866233335045735], [-4.0519026999629535, 1.6994381028261203, 0.8394035671548938], [-3.515113349205474, 1.854140209152661, 0.656327284098912], [-0.12117989876758006, -0.5403726432660476, 0.12302409317971286], [-1.666706396677162, 0.8690762338084546, 0.6908088170357186], [-0.2360553395321756, -0.4844945422426177, 0.2517821389202671], [-3.68136396384312, 1.783698246329176, 0.7003700872670819], [-2.223168192520129, 1.5476078381185507, 0.8034980881894868], [-1.8730419524659125, 0.809250316367637, 0.7484024246736245], [-0.2580274284837585, -0.33707987313216403, 0.3093001964292283], [-0.6214188723082963, 0.18183151698519007, 0.1235143799215053], [-3.602157431425427, 2.2136414480702733, 0.12479716611095223], [-0.2477693216702268, -0.4167356427260218, 0.27634358738954234], [-7.776368474163755, 3.980394676661909, 0.1753108560516201]]\n",
      "new y = [[-2.40853237  2.57167399  0.34983396 -0.20853237 -0.39146763]]\n",
      "Found optimum y_opt = [[-6.20821112  3.06652096  0.04141092]\n",
      " [ 0.04107006 -1.0448817   0.13418097]\n",
      " [ 0.70340265  0.7835458   0.05096863]\n",
      " [-8.78562128  4.13087981  0.04141811]\n",
      " [-2.36289324  1.03169535  0.89924291]\n",
      " [-0.26126762 -0.26230466  0.34463513]\n",
      " [-1.33882239  1.01279857  0.6173041 ]\n",
      " [-7.50039207  3.91606641  0.20384562]\n",
      " [-4.11245045  1.78545968  0.89627839]\n",
      " [-6.56761241  3.12389493  0.10453633]\n",
      " [-3.35804994  1.92928941  0.62184665]\n",
      " [-0.67607147  0.50671304  0.08123781]\n",
      " [-7.98423607  4.02486565  0.15336821]\n",
      " [ 0.37182932 -0.10477822  0.10127613]\n",
      " [-3.87796663  2.56874576  0.0799045 ]\n",
      " [-6.51959265  3.06550243  0.87117628]\n",
      " [-1.22531281  1.42260944  0.06866233]\n",
      " [-4.0519027   1.6994381   0.83940357]\n",
      " [-3.51511335  1.85414021  0.65632728]\n",
      " [-0.1211799  -0.54037264  0.12302409]\n",
      " [-1.6667064   0.86907623  0.69080882]\n",
      " [-0.23605534 -0.48449454  0.25178214]\n",
      " [-3.68136396  1.78369825  0.70037009]\n",
      " [-2.22316819  1.54760784  0.80349809]\n",
      " [-1.87304195  0.80925032  0.74840242]\n",
      " [-0.25802743 -0.33707987  0.3093002 ]\n",
      " [-0.62141887  0.18183152  0.12351438]\n",
      " [-3.60215743  2.21364145  0.12479717]\n",
      " [-0.24776932 -0.41673564  0.27634359]\n",
      " [-7.77636847  3.98039468  0.17531086]] at x_opt = [[2.05198062e-01 2.00000000e+00 3.00000000e+00]\n",
      " [3.42161110e-01 1.00000000e+00 0.00000000e+00]\n",
      " [2.12985857e-01 0.00000000e+00 2.00000000e+00]\n",
      " [2.05020037e-01 3.00000000e+00 3.00000000e+00]\n",
      " [9.26133776e-01 0.00000000e+00 3.00000000e+00]\n",
      " [5.44309804e-01 0.00000000e+00 0.00000000e+00]\n",
      " [7.90422984e-01 0.00000000e+00 3.00000000e+00]\n",
      " [8.72278594e-05 3.00000000e+00 3.00000000e+00]\n",
      " [9.08878209e-01 1.00000000e+00 3.00000000e+00]\n",
      " [7.45159055e-02 2.00000000e+00 3.00000000e+00]\n",
      " [7.92051380e-01 1.00000000e+00 3.00000000e+00]\n",
      " [2.12825437e-01 1.00000000e+00 1.00000000e+00]\n",
      " [3.48601404e-02 3.00000000e+00 3.00000000e+00]\n",
      " [2.37562239e-01 0.00000000e+00 1.00000000e+00]\n",
      " [2.45011366e-01 2.00000000e+00 2.00000000e+00]\n",
      " [8.84636294e-01 2.00000000e+00 3.00000000e+00]\n",
      " [2.32783118e-01 1.00000000e+00 2.00000000e+00]\n",
      " [8.67656469e-01 1.00000000e+00 3.00000000e+00]\n",
      " [8.03866498e-01 1.00000000e+00 3.00000000e+00]\n",
      " [2.37895584e-01 1.00000000e+00 0.00000000e+00]\n",
      " [8.15059301e-01 0.00000000e+00 3.00000000e+00]\n",
      " [4.80594097e-01 0.00000000e+00 0.00000000e+00]\n",
      " [8.18096735e-01 1.00000000e+00 3.00000000e+00]\n",
      " [9.99727143e-01 0.00000000e+00 3.00000000e+00]\n",
      " [8.33606272e-01 0.00000000e+00 3.00000000e+00]\n",
      " [5.18742739e-01 0.00000000e+00 0.00000000e+00]\n",
      " [2.76767852e-01 1.00000000e+00 1.00000000e+00]\n",
      " [5.68697585e-02 1.00000000e+00 3.00000000e+00]\n",
      " [4.96897964e-01 0.00000000e+00 0.00000000e+00]\n",
      " [1.92956553e-02 3.00000000e+00 3.00000000e+00]]\n"
     ]
    }
   ],
   "source": [
    "x_opt, y_opt = optim.run(f_grouped, n_iter=5)"
   ]
  },
  {
   "cell_type": "code",
   "execution_count": 11,
   "id": "e67fc3f5-b0c6-4c9c-9776-b31b9d49a676",
   "metadata": {},
   "outputs": [
    {
     "data": {
      "image/png": "[encoded data removed]",
      "text/plain": [
       "<Figure size 432x288 with 1 Axes>"
      ]
     },
     "metadata": {
      "needs_background": "light"
     },
     "output_type": "display_data"
    },
    {
     "data": {
      "image/png": "[encoded data removed]",
      "text/plain": [
       "<Figure size 432x288 with 1 Axes>"
      ]
     },
     "metadata": {
      "needs_background": "light"
     },
     "output_type": "display_data"
    },
    {
     "data": {
      "image/png": "[encoded data removed]",
      "text/plain": [
       "<Figure size 432x288 with 1 Axes>"
      ]
     },
     "metadata": {
      "needs_background": "light"
     },
     "output_type": "display_data"
    }
   ],
   "source": [
    "import matplotlib.pyplot as plt\n",
    "\n",
    "plt.figure()\n",
    "plt.scatter(x_opt[:,0], x_opt[:,1], marker='x',label = 'approx BO')\n",
    "plt.xlabel('$x_0$')\n",
    "plt.ylabel('$x_1$')\n",
    "plt.legend()\n",
    "plt.title(\"design space\")\n",
    "plt.show()\n",
    "\n",
    "\n",
    "plt.figure()\n",
    "plt.scatter(x_opt[:,0], x_opt[:,2], marker='x',label = 'approx BO')\n",
    "plt.xlabel('$x_0$')\n",
    "plt.ylabel('$x_2$')\n",
    "plt.legend()\n",
    "plt.title(\"design space\")\n",
    "plt.show()\n",
    "\n",
    "plt.figure()\n",
    "plt.scatter( y_opt[:,0],  y_opt[:,1],marker='x', label = 'approx BO')\n",
    "plt.xlabel('f1')\n",
    "plt.ylabel('f2')\n",
    "plt.legend()\n",
    "plt.title(\"objective space\")\n",
    "plt.show()"
   ]
  }
 ],
 "metadata": {
  "kernelspec": {
   "display_name": "Python 3 (ipykernel)",
   "language": "python",
   "name": "python3"
  },
  "language_info": {
   "codemirror_mode": {
    "name": "ipython",
    "version": 3
   },
   "file_extension": ".py",
   "mimetype": "text/x-python",
   "name": "python",
   "nbconvert_exporter": "python",
   "pygments_lexer": "ipython3",
   "version": "3.8.5"
  }
 },
 "nbformat": 4,
 "nbformat_minor": 5
}
