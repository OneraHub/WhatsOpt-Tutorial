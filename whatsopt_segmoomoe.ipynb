{
 "cells": [
  {
   "cell_type": "markdown",
   "id": "906c60b2-6e36-4973-8e37-26dee3b70628",
   "metadata": {},
   "source": [
    "# Tutorial SEGMOOMOE via web services"
   ]
  },
  {
   "cell_type": "markdown",
   "id": "7e18b3fe-d4a9-4dee-a018-b84b9b886f98",
   "metadata": {},
   "source": [
    "This notebook describes the usage of segomoe using web services exposed by WhatsOpt."
   ]
  },
  {
   "cell_type": "markdown",
   "id": "00e62f3f-9083-4ada-be9a-89424157c7cd",
   "metadata": {},
   "source": [
    "## Prerequisite"
   ]
  },
  {
   "cell_type": "markdown",
   "id": "0b6b7499-f491-4670-b984-3ecaaec3920f",
   "metadata": {},
   "source": [
    "### wop (WhatsOpt command line interface)"
   ]
  },
  {
   "cell_type": "markdown",
   "id": "986d14c3-df47-469c-a87b-c8ed4dd9955b",
   "metadata": {},
   "source": [
    "You have to install the `wop` command:"
   ]
  },
  {
   "cell_type": "markdown",
   "id": "639e5e0e-5845-4064-a18e-146abcababfc",
   "metadata": {},
   "source": [
    "```bash\n",
    "pip install -U wop \n",
    "```"
   ]
  },
  {
   "cell_type": "markdown",
   "id": "c2e45518-3777-49ab-88a2-067064b762c8",
   "metadata": {},
   "source": [
    "You need to be logged in a WhatsOpt server either by using the <code>wop</code> command in a shell or the WhatsOpt API as follows:"
   ]
  },
  {
   "cell_type": "code",
   "execution_count": 1,
   "id": "7ec06212-f547-4c08-8cc3-a255476da2f5",
   "metadata": {},
   "outputs": [
    {
     "name": "stdout",
     "output_type": "stream",
     "text": [
      "\u001b[32mSuccessfully logged in to remote WhatsOpt https://ether.onera.fr/whatsopt\u001b[0m\n",
      "\u001b[0m\n"
     ]
    }
   ],
   "source": [
    "from whatsopt.whatsopt_client import WhatsOpt\n",
    "wop = WhatsOpt(url=\"https://ether.onera.fr/whatsopt\")\n",
    "ok = wop.login(echo=True)"
   ]
  },
  {
   "cell_type": "markdown",
   "id": "b7521d79-6369-4dc9-888d-dd7b740ebd43",
   "metadata": {
    "tags": []
   },
   "source": [
    "To test if you are connected the following command should succeed"
   ]
  },
  {
   "cell_type": "code",
   "execution_count": 2,
   "id": "95134148-d6aa-4c8b-a56b-ff4ff6c65828",
   "metadata": {},
   "outputs": [
    {
     "name": "stdout",
     "output_type": "stream",
     "text": [
      "WhatsOpt 1.25.4 requires wop >= 1.20.0\u001b[0m\n",
      "You are using wop 2.2.0\u001b[0m\n"
     ]
    }
   ],
   "source": [
    "wop.check_versions()"
   ]
  },
  {
   "cell_type": "markdown",
   "id": "b412214f-55e1-42e7-a289-61ef84ef3208",
   "metadata": {},
   "source": [
    "### SMT (Surrogate Modeling Toolbox)"
   ]
  },
  {
   "cell_type": "markdown",
   "id": "98a3aa47-5765-4d0b-b10c-2bfbc1611337",
   "metadata": {},
   "source": [
    "SMT is not required per se, but is used in this notebook to get optimized LHS sampling method."
   ]
  },
  {
   "cell_type": "markdown",
   "id": "229baf86-dfbe-4185-b6a1-287ec05fcb74",
   "metadata": {},
   "source": [
    "```bash\n",
    "pip install smt\n",
    "```"
   ]
  },
  {
   "cell_type": "markdown",
   "id": "ce3073a9-da6e-49a1-8f46-c2ee15b830fb",
   "metadata": {},
   "source": [
    "## Optimization with constraints"
   ]
  },
  {
   "cell_type": "markdown",
   "id": "64941ab0-48d1-4b94-b58d-d522c6e33a20",
   "metadata": {},
   "source": [
    "### Objective function\n",
    "\n",
    "First we define the objective function we want to minimize"
   ]
  },
  {
   "cell_type": "code",
   "execution_count": 3,
   "id": "9881542b-ed47-416b-a50d-f2c2e6f7022f",
   "metadata": {},
   "outputs": [],
   "source": [
    "import numpy as np\n",
    "from smt.applications.mixed_integer import FLOAT, INT\n",
    "\n",
    "def fun(x):  # function with 3 objectives\n",
    "    x = np.atleast_2d(x)\n",
    "    f1 = x[:, 0] - x[:, 1] * x[:, 2]\n",
    "    f2 = 4 * x[:, 0] ** 2 - 4 * x[:, 0] ** x[:, 2] + 1 + x[:, 1]\n",
    "    f3 = x[:, 0] ** 2\n",
    "    return np.hstack((np.atleast_2d(f1).T, np.atleast_2d(f2).T, np.atleast_2d(f3).T))\n",
    "\n",
    "\n",
    "def g1(x):  # constraint to force x < 0.8\n",
    "    x = np.atleast_2d(x)\n",
    "    return np.atleast_2d(x[:, 0] - 0.8).T\n",
    "\n",
    "\n",
    "def g2(x):  # constraint to force x > 0.2\n",
    "    x = np.atleast_2d(x)\n",
    "    return np.atleast_2d(0.2 - x[:, 0]).T\n",
    "\n",
    "\n",
    "def f_grouped(x):\n",
    "    resfun = fun(x)\n",
    "    resg1 = g1(x)\n",
    "    resg2 = g2(x)\n",
    "    res = np.hstack((resfun, resg1, resg2))\n",
    "    return res"
   ]
  },
  {
   "cell_type": "markdown",
   "id": "f0c69cac-3fb4-4a34-8c95-21048505f453",
   "metadata": {
    "tags": []
   },
   "source": [
    "### Optimization"
   ]
  },
  {
   "cell_type": "markdown",
   "id": "84cda9f5-100f-4695-a9b8-01689a299312",
   "metadata": {},
   "source": [
    "First we create an optimization context to use the SEGMOOMOE optimizer with the design space <code>xlimits</code>."
   ]
  },
  {
   "cell_type": "code",
   "execution_count": 4,
   "id": "2c4aa810-694c-4a6c-8cc4-b558c9a94e9a",
   "metadata": {},
   "outputs": [],
   "source": [
    "from whatsopt.mooptimization import MOOptimization, FLOAT, INT\n",
    "\n",
    "xtypes = [{\"type\": FLOAT, \"limits\": [0., 1.]},\n",
    "          {\"type\": INT, \"limits\": [0, 3]},\n",
    "          {\"type\": INT, \"limits\": [0, 3]}]\n",
    "\n",
    "cstr_specs = 2*[{\"type\": '<', \"bound\": 0.0}]\n",
    "\n",
    "options={\"n_clusters\": 0, \"n_start\": 10, \"criterion\": \"PI\", \"pop_size\": 30, \"n_gen\": 30, \"verbose\": True, \"debug\": True}\n",
    "\n",
    "optim = MOOptimization(xtypes, n_obj=3, cstr_specs=cstr_specs, options=options)"
   ]
  },
  {
   "cell_type": "markdown",
   "id": "4cb8eea2-9dbe-428e-ac22-30f7671bde78",
   "metadata": {},
   "source": [
    "You can get the optimization identifier"
   ]
  },
  {
   "cell_type": "code",
   "execution_count": 26,
   "id": "c77016f3-6d68-4e66-aef8-42b7d4316cae",
   "metadata": {},
   "outputs": [
    {
     "data": {
      "text/plain": [
       "184"
      ]
     },
     "execution_count": 26,
     "metadata": {},
     "output_type": "execute_result"
    }
   ],
   "source": [
    "optim._id"
   ]
  },
  {
   "cell_type": "markdown",
   "id": "1c6cfc95-ea90-4d89-93b8-4e242cb703af",
   "metadata": {},
   "source": [
    "This id is be used to identify the optimization and visualize the results when using the WhatsOpt web application. It can also be used at a lower level to handle the optimization when using WhatsOpt REST API."
   ]
  },
  {
   "cell_type": "markdown",
   "id": "15dc798a-eb78-4acd-8c9c-3630685ed581",
   "metadata": {},
   "source": [
    "We need to have an initial DOE (n_samples, nx) and the corresponding outputs y (n_samples, 1)."
   ]
  },
  {
   "cell_type": "code",
   "execution_count": 5,
   "id": "211969ff-52cb-42e8-9cc6-78bfcd7450a7",
   "metadata": {},
   "outputs": [
    {
     "name": "stdout",
     "output_type": "stream",
     "text": [
      "Initial DOE\n",
      "xdoe=[[0.36691555 0.         1.        ]\n",
      " [0.58432706 1.         1.        ]\n",
      " [0.09227899 1.         2.        ]\n",
      " [0.95274182 1.         2.        ]\n",
      " [0.72873502 1.         3.        ]\n",
      " [0.87115983 2.         1.        ]\n",
      " [0.24346361 2.         3.        ]\n",
      " [0.4221473  2.         0.        ]\n",
      " [0.10886813 2.         1.        ]\n",
      " [0.65557784 3.         2.        ]\n",
      " [0.39532629 2.         0.        ]]\n",
      "ydoe=[[ 0.36691555  0.07084588  0.13462702 -0.43308445 -0.16691555]\n",
      " [-0.41567294  1.02844421  0.34143811 -0.21567294 -0.38432706]\n",
      " [-1.90772101  2.          0.00851541 -0.70772101  0.10772101]\n",
      " [-1.04725818  2.          0.90771698  0.15274182 -0.75274182]\n",
      " [-2.27126498  2.5762262   0.53105473 -0.07126498 -0.52873502]\n",
      " [-1.12884017  2.55103848  0.75891945  0.07115983 -0.67115983]\n",
      " [-5.75653639  3.17937335  0.05927453 -0.55653639 -0.04346361]\n",
      " [ 0.4221473  -0.28716663  0.17820834 -0.3778527  -0.2221473 ]\n",
      " [-1.89113187  2.61193656  0.01185227 -0.69113187  0.09113187]\n",
      " [-5.34442216  4.          0.4297823  -0.14442216 -0.45557784]\n",
      " [ 0.39532629 -0.3748685   0.15628288 -0.40467371 -0.19532629]]\n"
     ]
    }
   ],
   "source": [
    "import numpy as np\n",
    "# from smt.sampling_methods import LHS\n",
    "# lhs = LHS(xlimits=np.array(xlimits), criterion='ese')\n",
    "# xdoe = lhs(5)\n",
    "\n",
    "xdoe = np.array(\n",
    "    [        \n",
    "     [0.36691555, 0.,        1.        ],\n",
    "     [0.58432706, 1.,       1.        ],\n",
    "     [0.09227899, 1.,         2.        ],\n",
    "     [0.95274182, 1.,         2.        ],\n",
    "     [0.72873502, 1.,         3.        ],\n",
    "     [0.87115983, 2.,         1.        ],\n",
    "     [0.24346361, 2.,         3.        ],\n",
    "     [0.4221473 , 2.,         0.        ],\n",
    "     [0.10886813, 2.,         1.        ],\n",
    "     [0.65557784, 3.,         2.        ],\n",
    "     [0.39532629, 2.,         0.        ]\n",
    "    ]\n",
    ")\n",
    "ydoe = f_grouped(xdoe)\n",
    "print(\"Initial DOE\")\n",
    "print(\"xdoe={}\".format(xdoe))\n",
    "print(\"ydoe={}\".format(ydoe))"
   ]
  },
  {
   "cell_type": "markdown",
   "id": "3d34f4b1-b2a6-4352-a42f-8cc357b2e554",
   "metadata": {},
   "source": [
    "We initialize the optimizer with the inital DOE."
   ]
  },
  {
   "cell_type": "code",
   "execution_count": 6,
   "id": "598bb14c-16a2-48b8-96cb-7ddc1b6aabbc",
   "metadata": {},
   "outputs": [],
   "source": [
    "optim.tell_doe(xdoe, ydoe)"
   ]
  },
  {
   "cell_type": "markdown",
   "id": "a21afff9-d50d-4459-bf8c-83c149e9e5ef",
   "metadata": {},
   "source": [
    "We trigger the optimization using the \"ask and tell\" interface."
   ]
  },
  {
   "cell_type": "code",
   "execution_count": 7,
   "id": "6cd0c88f-49c9-408b-8c7e-bb9cafe1fb3c",
   "metadata": {},
   "outputs": [
    {
     "name": "stdout",
     "output_type": "stream",
     "text": [
      "0 x suggested = [0.5586617983614292, 1.0, 1.0] with status: valid point\n",
      "new y = [[-0.4413382   1.01376483  0.312103   -0.2413382  -0.3586618 ]]\n",
      "1 x suggested = [0.800000911237212, 2.0, 0.0] with status: valid point\n",
      "new y = [[ 8.00000911e-01  1.56000583e+00  6.40001458e-01  9.11237212e-07\n",
      "  -6.00000911e-01]]\n",
      "Found approx pareto y_opt = [[-4.82387751095713, 2.375406588176781, 1.0222750630753625], [-1.6876330688025811, 2.4556880406042154, 0.03828524129012545], [-7.50912035736423, 2.6029867638812165, 0.13300802040919665], [0.3752269683158649, 1.7232681305487025, 0.04994414834797084], [-7.469571871247251, 2.886708380330337, 0.057591618240452225], [0.35984441589360694, -0.4060856997640776, 0.13697629405161488], [-5.028651831232094, 2.577157364158632, 0.7323516821136224], [-1.390399361469859, 1.9046130922851658, 0.20893427015343266], [-0.7662677074555113, 1.2707803745402173, 0.09702415570424361], [-0.2858239575773085, 0.33280628515274846, 0.1246422489140194], [-3.83743749065152, 2.623863052084136, 0.049142508584335276], [-1.0075891338795975, 0.7075736234197914, 0.20342221902144242], [-1.2617680886015576, 1.569692253281843, 0.1637389779074579], [-5.970965515178682, 2.7629299322523417, 0.13269651226115173], [-1.685892275312905, 2.067782320572869, 0.05804710219469117], [0.14062108890632308, 0.2143225048501265, 0.11835961370971076], [-5.612287199531763, 2.8207609276438674, 0.05749870281691283], [0.21210161789178894, -0.05703237991340315, 0.11394760595528386], [-6.932803448314898, 2.557599012840203, 0.7799795180279794], [-3.1539956632624886, 2.3770850694397216, 0.14808648684445483], [-1.1533858546648745, 1.1216456969934774, 0.1277110261452102], [-1.1043370871063491, 0.8699809164709822, 0.11619435303904663], [-2.11681983492815, 2.330429523274315, 1.0206921228330075], [-4.904978557132557, 2.4482771788986852, 0.9176404907876019], [-6.880356343547183, 2.502128285317961, 0.8625734639729963], [-6.76988793834366, 2.4013929235393645, 1.0094778071948431], [-6.960159160155646, 2.5876860112494824, 0.7347195926206944], [-2.119535412363428, 2.3350316039070895, 1.0121605493101598], [-6.758276034758558, 2.392387790985642, 1.022244687260396], [-2.8648354587880096, 2.522480230223272, 0.13973643599974067]] at x_opt = [[0.9999999966295863, 2.0, 3.0], [0.21009860118596868, 2.0, 1.0], [0.009490429185058935, 3.0, 3.0], [0.23230604603479243, 0.0, 2.0], [0.21413032438518093, 3.0, 3.0], [0.3641378159026144, 2.0, 0.0], [0.8338608736344265, 2.0, 3.0], [1.7399497160064392e-05, 3.0, 0.0], [0.314756109536325, 1.0, 1.0], [0.33528624059188294, 1.0, 0.0], [0.23087055995826283, 2.0, 2.0], [0.44727241893697234, 3.0, 0.0], [0.08946961408447282, 3.0, 0.0], [0.009925494989414668, 2.0, 3.0], [0.24625259107064007, 1.0, 2.0], [0.22102912002950917, 2.0, 0.0], [0.24531152588890393, 3.0, 2.0], [0.26176622644566716, 2.0, 0.0], [0.8584045206589442, 3.0, 3.0], [0.38419800349207733, 3.0, 1.0], [0.18221326257575052, 3.0, 0.0], [0.23485533819355586, 3.0, 0.0], [0.9988347621245917, 1.0, 3.0], [0.9330223748492519, 2.0, 3.0], [0.9021555004443343, 3.0, 3.0], [0.9908992745410907, 3.0, 3.0], [0.8350880291731203, 3.0, 3.0], [0.9927444267452482, 1.0, 3.0], [0.9999997345389134, 3.0, 3.0], [7.218388146579269e-05, 1.0, 3.0]]\n"
     ]
    }
   ],
   "source": [
    "# We loop using the iteration budget\n",
    "n_iter = 2\n",
    "with_best=False\n",
    "for i in range(n_iter):\n",
    "    with_best = with_best or (i == n_iter - 1)\n",
    "    x_suggested, status, x_opt, y_opt = optim.ask(with_best)\n",
    "    print(\"{} x suggested = {} with status: {}\".format(i, x_suggested, MOOptimization.STATUSES[status]))\n",
    "\n",
    "    # compute objective function at the suggested point\n",
    "    new_y = f_grouped(x_suggested)\n",
    "    print(\"new y = {}\".format(new_y))\n",
    "\n",
    "    optim.tell(x_suggested, new_y)\n",
    "         \n",
    "print(\"Found approx pareto y_opt = {} at x_opt = {}\".format(y_opt, x_opt))"
   ]
  },
  {
   "cell_type": "code",
   "execution_count": 8,
   "id": "68041015-33b9-4cd1-877a-79ce5fb525d3",
   "metadata": {},
   "outputs": [
    {
     "data": {
      "image/png": "[encoded data removed]",
      "text/plain": [
       "<Figure size 432x288 with 1 Axes>"
      ]
     },
     "metadata": {
      "needs_background": "light"
     },
     "output_type": "display_data"
    },
    {
     "data": {
      "image/png": "[encoded data removed]",
      "text/plain": [
       "<Figure size 432x288 with 1 Axes>"
      ]
     },
     "metadata": {
      "needs_background": "light"
     },
     "output_type": "display_data"
    },
    {
     "data": {
      "image/png": "[encoded data removed]",
      "text/plain": [
       "<Figure size 432x288 with 1 Axes>"
      ]
     },
     "metadata": {
      "needs_background": "light"
     },
     "output_type": "display_data"
    }
   ],
   "source": [
    "import matplotlib.pyplot as plt\n",
    "\n",
    "x_opt = np.array(x_opt)\n",
    "y_opt = np.array(y_opt)\n",
    "\n",
    "plt.figure()\n",
    "plt.scatter(x_opt[:,0], x_opt[:,1], marker='x',label = 'approx BO')\n",
    "plt.xlabel('$x_0$')\n",
    "plt.ylabel('$x_1$')\n",
    "plt.legend()\n",
    "plt.title(\"design space\")\n",
    "plt.show()\n",
    "\n",
    "\n",
    "plt.figure()\n",
    "plt.scatter(x_opt[:,0], x_opt[:,2], marker='x',label = 'approx BO')\n",
    "plt.xlabel('$x_0$')\n",
    "plt.ylabel('$x_2$')\n",
    "plt.legend()\n",
    "plt.title(\"design space\")\n",
    "plt.show()\n",
    "\n",
    "plt.figure()\n",
    "plt.scatter( y_opt[:,0],  y_opt[:,1],marker='x', label = 'approx BO')\n",
    "plt.xlabel('f1')\n",
    "plt.ylabel('f2')\n",
    "plt.legend()\n",
    "plt.title(\"objective space\")\n",
    "plt.show()"
   ]
  },
  {
   "cell_type": "code",
   "execution_count": 9,
   "id": "7505d5f0-3ecc-44e8-a20b-7db24caba112",
   "metadata": {},
   "outputs": [],
   "source": [
    "optim.tell_doe(xdoe, ydoe)"
   ]
  },
  {
   "cell_type": "code",
   "execution_count": 10,
   "id": "b3b2dff3-bafb-4886-a0d1-3d888630919b",
   "metadata": {},
   "outputs": [
    {
     "name": "stdout",
     "output_type": "stream",
     "text": [
      "0 x suggested = [0.3766857122159265, 2.0, 0.0] with status: valid point\n",
      "new y = [[ 0.37668571 -0.4324315   0.14189213 -0.42331429 -0.17668571]]\n",
      "1 x suggested = [0.37698484985702474, 2.0, 0.0] with status: valid point\n",
      "new y = [[ 0.37698485 -0.43152969  0.14211758 -0.42301515 -0.17698485]]\n",
      "2 x suggested = [0.20000502330853606, 1.0, 2.0] with status: valid point\n",
      "new y = [[-1.79999498e+00  2.00000000e+00  4.00020093e-02 -5.99994977e-01\n",
      "  -5.02330854e-06]]\n",
      "3 x suggested = [0.3478477788839741, 3.0, 3.0] with status: valid point\n",
      "new y = [[-8.65215222  4.31563666  0.12099808 -0.45215222 -0.14784778]]\n",
      "4 x suggested = [0.3499478492492242, 1.0, 1.0] with status: valid point\n",
      "x_best=[[0.34122394932403893, 3.0, 3.0], [0.32114648296269793, 3.0, 3.0], [0.2232067926456353, 2.0, 0.0], [0.20491155004811806, 1.0, 2.0], [0.5361475330820975, 1.0, 2.0], [0.999999451854206, 3.0, 3.0], [0.034483020863101385, 2.0, 3.0], [0.4377301147406, 0.0, 1.0], [0.047278069496397665, 2.0, 2.0], [0.6989389987363539, 0.0, 1.0], [0.5834667511796205, 0.0, 1.0], [0.9124799861527024, 0.0, 1.0], [0.0016722452664154064, 0.0, 3.0], [0.42911626275144016, 2.0, 3.0], [0.8816796820445322, 2.0, 2.0], [0.7302365144230172, 3.0, 3.0], [0.7818950718659345, 0.0, 1.0], [0.3137149686950212, 2.0, 3.0], [0.5099433133507499, 1.0, 2.0], [0.999898181928447, 2.0, 3.0], [0.05229024725731804, 3.0, 1.0], [0.9999973255305437, 2.0, 3.0], [0.8164554598388236, 0.0, 1.0], [0.63878661002423, 0.0, 1.0], [0.9547865101839178, 3.0, 3.0], [0.6597289587874412, 3.0, 3.0], [0.44522663820290875, 0.0, 1.0], [9.733072207761262e-05, 3.0, 2.0], [0.5797533289599661, 3.0, 3.0], [0.8710253825493821, 0.0, 1.0]]\n",
      "y_best=[[-8.652527863527649, 4.314522969388199, 0.12103764622781943], [-8.652749975882875, 4.306872132703018, 0.12164029262693343], [0.22443112222062744, -0.7937721413953238, 0.04882766516571402], [-1.794990972529203, 2.0000931618666598, 0.042661377038126835], [-1.448638352231509, 1.9822317164971417, 0.43748494116895476], [-7.925459549957964, 2.671575768693338, 0.3041095374033143], [-5.796149919554283, 3.03131721783841, 0.10538332236747053], [0.2078829690018884, 0.1103127248577842, 0.13883087188627896], [-4.373715324038118, 2.304122790205234, 0.34404083531906643], [-0.4256458749395442, 0.8272706196592432, 0.20995793558142872], [-0.1388162152304051, 0.4296115259421247, 0.1708046300363983], [-0.9626090550099842, 1.5653860970836537, 0.2812060241336457], [-2.3963041128437177, 2.2512315501780105, 0.34404265087879593], [-5.647037439811132, 3.062826083880249, 0.0963297259583279], [-3.1221986776730466, 2.2764355418516793, 0.34404577363522654], [-8.382014985074537, 3.451917682869589, 0.22057641167200787], [-0.6346233398510754, 1.1326962548118413, 0.2396829134501049], [-5.7230926550100145, 3.162034228379584, 0.06490248061716045], [-1.4760538555611817, 1.9856756384740086, 0.39559753828965133], [-4.952374819560557, 2.349807093756093, 0.3158973991683213], [-3.0529802774472063, 2.269059375534341, 0.34404072288247894], [-4.952219968654772, 2.3497491998113986, 0.3159144696567243], [-0.7217905428276514, 1.2556768647157992, 0.2515616365804186], [-0.27532775351658567, 0.6110908914402868, 0.18873800874758007], [-8.01512426797789, 2.771711981643173, 0.29377047635756237], [-8.467353123280974, 3.6946448465435866, 0.1935438657100462], [0.19063567020530447, 0.11937020333215287, 0.13975655776955268], [-5.6483158231060795, 2.613819471742464, 0.3591251908008471], [-8.545328663160127, 3.950187705171449, 0.16460055519540415], [-0.8590182889744115, 1.4385268255372932, 0.2691146451433425]]\n",
      "new y = [[-0.65005215  1.09006259  0.1224635  -0.45005215 -0.14994785]]\n",
      "Found optimum y_opt = [[-8.65252786  4.31452297  0.12103765]\n",
      " [-8.65274998  4.30687213  0.12164029]\n",
      " [ 0.22443112 -0.79377214  0.04882767]\n",
      " [-1.79499097  2.00009316  0.04266138]\n",
      " [-1.44863835  1.98223172  0.43748494]\n",
      " [-7.92545955  2.67157577  0.30410954]\n",
      " [-5.79614992  3.03131722  0.10538332]\n",
      " [ 0.20788297  0.11031272  0.13883087]\n",
      " [-4.37371532  2.30412279  0.34404084]\n",
      " [-0.42564587  0.82727062  0.20995794]\n",
      " [-0.13881622  0.42961153  0.17080463]\n",
      " [-0.96260906  1.5653861   0.28120602]\n",
      " [-2.39630411  2.25123155  0.34404265]\n",
      " [-5.64703744  3.06282608  0.09632973]\n",
      " [-3.12219868  2.27643554  0.34404577]\n",
      " [-8.38201499  3.45191768  0.22057641]\n",
      " [-0.63462334  1.13269625  0.23968291]\n",
      " [-5.72309266  3.16203423  0.06490248]\n",
      " [-1.47605386  1.98567564  0.39559754]\n",
      " [-4.95237482  2.34980709  0.3158974 ]\n",
      " [-3.05298028  2.26905938  0.34404072]\n",
      " [-4.95221997  2.3497492   0.31591447]\n",
      " [-0.72179054  1.25567686  0.25156164]\n",
      " [-0.27532775  0.61109089  0.18873801]\n",
      " [-8.01512427  2.77171198  0.29377048]\n",
      " [-8.46735312  3.69464485  0.19354387]\n",
      " [ 0.19063567  0.1193702   0.13975656]\n",
      " [-5.64831582  2.61381947  0.35912519]\n",
      " [-8.54532866  3.95018771  0.16460056]\n",
      " [-0.85901829  1.43852683  0.26911465]] at x_opt = [[3.41223949e-01 3.00000000e+00 3.00000000e+00]\n",
      " [3.21146483e-01 3.00000000e+00 3.00000000e+00]\n",
      " [2.23206793e-01 2.00000000e+00 0.00000000e+00]\n",
      " [2.04911550e-01 1.00000000e+00 2.00000000e+00]\n",
      " [5.36147533e-01 1.00000000e+00 2.00000000e+00]\n",
      " [9.99999452e-01 3.00000000e+00 3.00000000e+00]\n",
      " [3.44830209e-02 2.00000000e+00 3.00000000e+00]\n",
      " [4.37730115e-01 0.00000000e+00 1.00000000e+00]\n",
      " [4.72780695e-02 2.00000000e+00 2.00000000e+00]\n",
      " [6.98938999e-01 0.00000000e+00 1.00000000e+00]\n",
      " [5.83466751e-01 0.00000000e+00 1.00000000e+00]\n",
      " [9.12479986e-01 0.00000000e+00 1.00000000e+00]\n",
      " [1.67224527e-03 0.00000000e+00 3.00000000e+00]\n",
      " [4.29116263e-01 2.00000000e+00 3.00000000e+00]\n",
      " [8.81679682e-01 2.00000000e+00 2.00000000e+00]\n",
      " [7.30236514e-01 3.00000000e+00 3.00000000e+00]\n",
      " [7.81895072e-01 0.00000000e+00 1.00000000e+00]\n",
      " [3.13714969e-01 2.00000000e+00 3.00000000e+00]\n",
      " [5.09943313e-01 1.00000000e+00 2.00000000e+00]\n",
      " [9.99898182e-01 2.00000000e+00 3.00000000e+00]\n",
      " [5.22902473e-02 3.00000000e+00 1.00000000e+00]\n",
      " [9.99997326e-01 2.00000000e+00 3.00000000e+00]\n",
      " [8.16455460e-01 0.00000000e+00 1.00000000e+00]\n",
      " [6.38786610e-01 0.00000000e+00 1.00000000e+00]\n",
      " [9.54786510e-01 3.00000000e+00 3.00000000e+00]\n",
      " [6.59728959e-01 3.00000000e+00 3.00000000e+00]\n",
      " [4.45226638e-01 0.00000000e+00 1.00000000e+00]\n",
      " [9.73307221e-05 3.00000000e+00 2.00000000e+00]\n",
      " [5.79753329e-01 3.00000000e+00 3.00000000e+00]\n",
      " [8.71025383e-01 0.00000000e+00 1.00000000e+00]]\n"
     ]
    }
   ],
   "source": [
    "x_opt, y_opt = optim.run(f_grouped, n_iter=5)"
   ]
  },
  {
   "cell_type": "code",
   "execution_count": 11,
   "id": "e67fc3f5-b0c6-4c9c-9776-b31b9d49a676",
   "metadata": {},
   "outputs": [
    {
     "data": {
      "image/png": "[encoded data removed]",
      "text/plain": [
       "<Figure size 432x288 with 1 Axes>"
      ]
     },
     "metadata": {
      "needs_background": "light"
     },
     "output_type": "display_data"
    },
    {
     "data": {
      "image/png": "[encoded data removed]",
      "text/plain": [
       "<Figure size 432x288 with 1 Axes>"
      ]
     },
     "metadata": {
      "needs_background": "light"
     },
     "output_type": "display_data"
    },
    {
     "data": {
      "image/png": "[encoded data removed]",
      "text/plain": [
       "<Figure size 432x288 with 1 Axes>"
      ]
     },
     "metadata": {
      "needs_background": "light"
     },
     "output_type": "display_data"
    }
   ],
   "source": [
    "import matplotlib.pyplot as plt\n",
    "\n",
    "plt.figure()\n",
    "plt.scatter(x_opt[:,0], x_opt[:,1], marker='x',label = 'approx BO')\n",
    "plt.xlabel('$x_0$')\n",
    "plt.ylabel('$x_1$')\n",
    "plt.legend()\n",
    "plt.title(\"design space\")\n",
    "plt.show()\n",
    "\n",
    "\n",
    "plt.figure()\n",
    "plt.scatter(x_opt[:,0], x_opt[:,2], marker='x',label = 'approx BO')\n",
    "plt.xlabel('$x_0$')\n",
    "plt.ylabel('$x_2$')\n",
    "plt.legend()\n",
    "plt.title(\"design space\")\n",
    "plt.show()\n",
    "\n",
    "plt.figure()\n",
    "plt.scatter( y_opt[:,0],  y_opt[:,1],marker='x', label = 'approx BO')\n",
    "plt.xlabel('f1')\n",
    "plt.ylabel('f2')\n",
    "plt.legend()\n",
    "plt.title(\"objective space\")\n",
    "plt.show()"
   ]
  },
  {
   "cell_type": "code",
   "execution_count": 12,
   "id": "52651aa1",
   "metadata": {},
   "outputs": [
    {
     "name": "stdout",
     "output_type": "stream",
     "text": [
      "182\n"
     ]
    }
   ],
   "source": [
    "print(optim._id)"
   ]
  },
  {
   "cell_type": "markdown",
   "id": "88b3388f-6bac-4f54-a664-8115d2a1463e",
   "metadata": {},
   "source": [
    "## Options"
   ]
  },
  {
   "cell_type": "markdown",
   "id": "09c4cc1d",
   "metadata": {},
   "source": [
    "### Options for the optimization solver"
   ]
  },
  {
   "cell_type": "code",
   "execution_count": 14,
   "id": "0b298afb",
   "metadata": {},
   "outputs": [
    {
     "name": "stdout",
     "output_type": "stream",
     "text": [
      "{'n_clusters': 1, 'n_start': 10, 'verbose': True, 'debug': True}\n",
      "0 x suggested = [0.6145321835484994, 3.0, 3.0] with status: valid point\n",
      "new y = [[-8.38546782  4.58228738  0.3776498  -0.18546782 -0.41453218]]\n",
      "1 x suggested = [0.7083544391022637, 1.0, 3.0] with status: valid point\n",
      "new y = [[-2.29164556  2.58535132  0.50176601 -0.09164556 -0.50835444]]\n",
      "2 x suggested = [0.20000077845510447, 1.0, 1.0] with status: valid point\n",
      "new y = [[-7.99999222e-01  1.35999813e+00  4.00003114e-02 -5.99999222e-01\n",
      "  -7.78455104e-07]]\n",
      "3 x suggested = [0.5001914961557758, 1.0, 1.0] with status: valid point\n",
      "new y = [[-0.4998085   1.00000015  0.25019153 -0.2998085  -0.3001915 ]]\n",
      "4 x suggested = [0.49973571399963457, 1.0, 1.0] with status: valid point\n",
      "x_best=[[0.39036869644758077, 3.0, 3.0], [0.420370093914336, 2.0, 2.0], [0.3717620482620602, 3.0, 3.0], [0.4201204183591866, 3.0, 3.0], [0.24545110566638606, 3.0, 3.0], [0.3891572279422599, 3.0, 3.0], [0.201602171633381, 3.0, 3.0]]\n",
      "y_best=[[-8.641043584391284, 0.6729776553913824, -0.010601996205876651], [-3.2777276662483423, -2.0485239195329323, -0.012055614746049548], [-8.668356767307753, 1.5124457194477376, 0.061431812374029116], [-8.601315318330965, -1.9524083889787582, 0.05641904281347104], [-8.876930164124422, 2.987402809179999, 0.020821103080972736], [-8.648492634277593, 1.3235108151537722, 0.09370095084618102], [-8.963835746131368, 1.5582078736141307, 0.06156544341564851]]\n",
      "new y = [[-0.50026429  1.00000028  0.24973578 -0.30026429 -0.29973571]]\n",
      "Found optimum y_opt = [[-8.64104358  0.67297766 -0.010602  ]\n",
      " [-3.27772767 -2.04852392 -0.01205561]\n",
      " [-8.66835677  1.51244572  0.06143181]\n",
      " [-8.60131532 -1.95240839  0.05641904]\n",
      " [-8.87693016  2.98740281  0.0208211 ]\n",
      " [-8.64849263  1.32351082  0.09370095]\n",
      " [-8.96383575  1.55820787  0.06156544]] at x_opt = [[0.3903687  3.         3.        ]\n",
      " [0.42037009 2.         2.        ]\n",
      " [0.37176205 3.         3.        ]\n",
      " [0.42012042 3.         3.        ]\n",
      " [0.24545111 3.         3.        ]\n",
      " [0.38915723 3.         3.        ]\n",
      " [0.20160217 3.         3.        ]]\n"
     ]
    }
   ],
   "source": [
    "# criterion=\"WB2S\", \"EHVI\", \"MPI\", PI\"\n",
    "# If WB2S is chosen two other options: 'subcrit' has to be given\n",
    "# subcrit= \"EHVI\", \"MPI\", \"PI\", by default: \"EHVI\" is set\n",
    "# transfo=lambda x: np.sum(x): by default\n",
    "\n",
    "# options={\"n_clusters\": 1, \"n_start\": 10, \"criterion\": \"WB2S\", \"subcrit\": \"MPI\" , \"pop_size\": 30, \"n_gen\": 30, \"verbose\": True, \"debug\": True}\n",
    "options={\"n_clusters\": 1, \"n_start\": 10,  \"verbose\": True, \"debug\": True}\n",
    "\n",
    "optim_options = MOOptimization(xtypes, n_obj=3, cstr_specs=cstr_specs, options=options)\n",
    "print(options)\n",
    "optim_options.tell_doe(xdoe, ydoe)\n",
    "x_opt, y_opt = optim_options.run(f_grouped, n_iter=5)\n"
   ]
  },
  {
   "cell_type": "code",
   "execution_count": 15,
   "id": "33be1394",
   "metadata": {},
   "outputs": [
    {
     "name": "stdout",
     "output_type": "stream",
     "text": [
      "183\n"
     ]
    }
   ],
   "source": [
    "print(optim_options._id)"
   ]
  },
  {
   "cell_type": "markdown",
   "id": "303b5fe9",
   "metadata": {},
   "source": [
    "### Optimization with mixed variables: float, integer and categorical variables"
   ]
  },
  {
   "cell_type": "code",
   "execution_count": 16,
   "id": "fd123e65",
   "metadata": {},
   "outputs": [],
   "source": [
    "from smt.applications.mixed_integer import MixedIntegerSurrogateModel,  MixedIntegerSamplingMethod, INT, FLOAT, ENUM, cast_to_mixed_integer, unfold_with_enum_mask\n",
    "from smt.sampling_methods import LHS\n",
    "import numpy as np\n",
    "from whatsopt.mooptimization import MOOptimization, FLOAT, INT, ENUM\n",
    "import time"
   ]
  },
  {
   "cell_type": "markdown",
   "id": "270057f0",
   "metadata": {},
   "source": [
    "$$\n",
    "\\begin{array}{cl}\n",
    "    \\underset{x\\in \\mathbb{R}^3}{\\min} (f_1(x),f_2(x),f_3(x)) & \\\\\n",
    "    \\mbox{with} & f_1=x_0-x_1x_2 \\\\\n",
    "    & f_2= 4x_0^2 - 4x_0^{x_2} +1 + x_1\\\\\n",
    "    & f_3= x_0^2\\\\\n",
    "    \\mbox{s.t.} & g_1(x)=x_0-0.8 \\ge 0  \\\\\n",
    "    &  g_2(x) = 0.2-x_0 \\ge 0\n",
    "\\end{array}\n",
    "$$\n",
    "\n",
    "Here \n",
    "- $x_0\\in [0,1] \\subset \\mathbb{R}$\n",
    "- $x_1$ is a integer $\\in \\{0,1,2,3\\}$  4 possibilities\n",
    "- $x_2$ is a categorical variable $\\in \\{\"blue\",\"red\",\"green\"\\}$ : 3 levels"
   ]
  },
  {
   "cell_type": "code",
   "execution_count": 17,
   "id": "e1cf2459",
   "metadata": {},
   "outputs": [
    {
     "name": "stderr",
     "output_type": "stream",
     "text": [
      "D:\\rlafage\\AppData\\Local\\Temp\\ipykernel_3372\\3733029899.py:33: VisibleDeprecationWarning: Creating an ndarray from ragged nested sequences (which is a list-or-tuple of lists-or-tuples-or ndarrays with different lengths or shapes) is deprecated. If you meant to do this, you must specify 'dtype=object' when creating the ndarray.\n",
      "  xlimits_options = np.array([[0.0, 1.0], [0,3], [\"blue\",\"red\",\"green\"]])\n"
     ]
    }
   ],
   "source": [
    "def fun_mixed_color(x):#function with 3 objectives\n",
    "    if x[2]==\"blue\":\n",
    "        x2=0\n",
    "    elif x[2]==\"red\":\n",
    "        x2=1\n",
    "    elif x[2]==\"green\":\n",
    "        x2=2\n",
    "    f1 = x[0] -np.float(x[1])*x2\n",
    "    f2 = 4*x[0]**2 - 4*x[0]**x2 +1 + np.float(x[1])\n",
    "    f3= x[0]**2\n",
    "    return [f1,f2,f3]\n",
    "\n",
    "def g1(x):#constraint to force x < 0.8\n",
    "    return (x[0]-0.8, False)\n",
    "def g2(x):#constraint to force x > 0.2\n",
    "    return (0.2 - x[0], False)\n",
    "\n",
    "# To group functions relative to objective &  constraint \n",
    "def f_grouped(x):\n",
    "    #print('ds fgrouped',x)\n",
    "    resfun = fun_mixed_color(x)\n",
    "    resg1 = g1(x)[0]\n",
    "    resg2 = g2(x)[0]\n",
    "    #print(resfun, resg1,resg2)\n",
    "    res = np.hstack((resfun, resg1, resg2))\n",
    "    return res,False\n",
    "\n",
    "# Specifications for constraints \n",
    "cstr_specs = 2*[{\"type\": '<', \"bound\": 0.0}]\n",
    "\n",
    "# Definition of design variables \n",
    "xtypes_options = [FLOAT, INT,  (ENUM, 3)]\n",
    "xlimits_options = np.array([[0.0, 1.0], [0,3], [\"blue\",\"red\",\"green\"]])\n",
    "xtypes_whatsopt = [{\"type\": FLOAT, \"limits\": [0.0, 1.0]},\n",
    "                   {\"type\": INT,  \"limits\": [0 , 3]},\n",
    "                   {\"type\": ENUM,  \"limits\": [\"blue\",\"red\",\"green\"]}]"
   ]
  },
  {
   "cell_type": "code",
   "execution_count": 20,
   "id": "66cb8af7",
   "metadata": {},
   "outputs": [],
   "source": [
    "options={\"n_clusters\": 1, \"n_start\": 10, \"criterion\": \"MPI\", \"pop_size\": 30, \"n_gen\": 30, \"verbose\": True, \"debug\": True}\n",
    "# options[\"mod_obj__type\"]       =\"MIXEDsmt\"\n",
    "# options[\"mod_obj__name\"]       =\"KPLS\"\n",
    "# options[\"mod_obj__n_comp\"]     = 2 # PLS components to reduce the initial dimension\n",
    "# options[\"mod_obj__eval_noise\"] = False\n",
    "# options[\"mod_obj__corr\"]       = \"squar_exp\" # correlation kernel"
   ]
  },
  {
   "cell_type": "code",
   "execution_count": 21,
   "id": "267ff0d9",
   "metadata": {},
   "outputs": [],
   "source": [
    "from whatsopt.mooptimization import MOOptimization, FLOAT, INT, ENUM\n",
    "\n",
    "optim = MOOptimization(xtypes_whatsopt, cstr_specs=cstr_specs, n_obj=3,  options=options)"
   ]
  },
  {
   "cell_type": "code",
   "execution_count": 22,
   "id": "34980119",
   "metadata": {},
   "outputs": [
    {
     "name": "stdout",
     "output_type": "stream",
     "text": [
      "Initial DOE\n",
      "xdoe=[[0.0467114  1.         0.        ]\n",
      " [0.52515334 3.         2.        ]\n",
      " [0.98860958 1.         1.        ]\n",
      " [0.67371691 0.         0.        ]\n",
      " [0.27937468 2.         2.        ]\n",
      " [0.17072136 1.         0.        ]\n",
      " [0.05891597 1.         2.        ]\n",
      " [0.86828996 2.         2.        ]\n",
      " [0.33907112 0.         1.        ]\n",
      " [0.77035571 3.         1.        ]\n",
      " [0.13580706 3.         1.        ]\n",
      " [0.58212573 1.         1.        ]\n",
      " [0.49684294 2.         1.        ]\n",
      " [0.92910482 2.         1.        ]\n",
      " [0.41488606 2.         0.        ]\n",
      " [0.3575309  0.         2.        ]\n",
      " [0.20844837 2.         2.        ]\n",
      " [0.72369114 1.         2.        ]\n",
      " [0.63697209 2.         0.        ]\n",
      " [0.80522156 0.         1.        ]]\n"
     ]
    }
   ],
   "source": [
    "sampling = MixedIntegerSamplingMethod(xtypes_options, xlimits_options, LHS, criterion=\"ese\")\n",
    "\n",
    "num = 20\n",
    "xdoe = sampling(num)\n",
    "print(\"Initial DOE\")\n",
    "print(\"xdoe={}\".format(xdoe))"
   ]
  },
  {
   "cell_type": "code",
   "execution_count": 23,
   "id": "c5448367",
   "metadata": {},
   "outputs": [
    {
     "name": "stdout",
     "output_type": "stream",
     "text": [
      "DOE with original  values - first elements - objectives \n",
      " [[0.046711395114645254, 1, 'blue'], [0.5251533376549689, 3, 'green'], [0.9886095828890722, 1, 'red'], [0.6737169119777868, 0, 'blue'], [0.2793746811682811, 2, 'green']] \n",
      " [[ 4.67113951e-02 -1.99127218e+00  2.18195443e-03 -7.53288605e-01\n",
      "   1.53288605e-01]\n",
      " [-5.47484666e+00  4.00000000e+00  2.75786028e-01 -2.74846662e-01\n",
      "  -3.25153338e-01]\n",
      " [-1.13904171e-02  1.95495730e+00  9.77348907e-01  1.88609583e-01\n",
      "  -7.88609583e-01]\n",
      " [ 6.73716912e-01 -1.18442209e+00  4.53894477e-01 -1.26283088e-01\n",
      "  -4.73716912e-01]\n",
      " [-3.72062532e+00  3.00000000e+00  7.80502125e-02 -5.20625319e-01\n",
      "  -7.93746812e-02]]\n",
      "DOE to give to the WhatsOpt optimizer - first elements - obj & constraints \n",
      " [[0.0467114  1.         0.        ]\n",
      " [0.52515334 3.         2.        ]\n",
      " [0.98860958 1.         1.        ]\n",
      " [0.67371691 0.         0.        ]\n",
      " [0.27937468 2.         2.        ]] \n",
      " [[ 4.67113951e-02 -1.99127218e+00  2.18195443e-03 -7.53288605e-01\n",
      "   1.53288605e-01]\n",
      " [-5.47484666e+00  4.00000000e+00  2.75786028e-01 -2.74846662e-01\n",
      "  -3.25153338e-01]\n",
      " [-1.13904171e-02  1.95495730e+00  9.77348907e-01  1.88609583e-01\n",
      "  -7.88609583e-01]\n",
      " [ 6.73716912e-01 -1.18442209e+00  4.53894477e-01 -1.26283088e-01\n",
      "  -4.73716912e-01]\n",
      " [-3.72062532e+00  3.00000000e+00  7.80502125e-02 -5.20625319e-01\n",
      "  -7.93746812e-02]]\n"
     ]
    }
   ],
   "source": [
    "# To have the DOE with the original values (float, integer and categorical)\n",
    "xdoe_cat= [cast_to_mixed_integer(xtypes=xtypes_options,xlimits=xlimits_options,x=xdoe[i]) for i in range(len(xdoe))]\n",
    "ydoe= np.array([f_grouped(xdoe_cat[i])[0] for i in range(len(xdoe))])\n",
    "print('DOE with original  values - first elements - objectives \\n', xdoe_cat[:5],'\\n', ydoe[:5])\n",
    "print('DOE to give to the WhatsOpt optimizer - first elements - obj & constraints \\n', xdoe[:5],'\\n', ydoe[:5])"
   ]
  },
  {
   "cell_type": "code",
   "execution_count": 24,
   "id": "5aa80d2a",
   "metadata": {},
   "outputs": [],
   "source": [
    "optim.tell_doe(xdoe, ydoe)"
   ]
  },
  {
   "cell_type": "code",
   "execution_count": 25,
   "id": "47788d3b",
   "metadata": {},
   "outputs": [
    {
     "name": "stdout",
     "output_type": "stream",
     "text": [
      "0 x suggested = [0.19999924098326644, 0.0, 0.0] with status: valid point\n",
      "--- 14.987879991531372 seconds ---\n",
      "new y = [ 1.99999241e-01 -2.84000121e+00  3.99996964e-02 -6.00000759e-01\n",
      "  7.59016734e-07]\n",
      "1 x suggested = [0.2000324974171205, 3.0, 2.0] with status: valid point\n",
      "--- 12.913505792617798 seconds ---\n",
      "new y = [-5.79996750e+00  4.00000000e+00  4.00130000e-02 -5.99967503e-01\n",
      " -3.24974171e-05]\n",
      "2 x suggested = [0.20041431838473328, 3.0, 1.0] with status: valid point\n",
      "--- 13.249317407608032 seconds ---\n",
      "new y = [-2.79958568e+00  3.35900632e+00  4.01658990e-02 -5.99585682e-01\n",
      " -4.14318385e-04]\n",
      "3 x suggested = [0.20055133145852055, 3.0, 1.0] with status: valid point\n",
      "--- 12.844878673553467 seconds ---\n",
      "new y = [-2.79944867e+00  3.35867802e+00  4.02208365e-02 -5.99448669e-01\n",
      " -5.51331459e-04]\n",
      "4 x suggested = [0.20029626809602227, 1.0, 2.0] with status: valid point\n",
      "--- 13.355016708374023 seconds ---\n",
      "new y = [-1.79970373e+00  2.00000000e+00  4.01185950e-02 -5.99703732e-01\n",
      " -2.96268096e-04]\n",
      "5 x suggested = [0.2000000021998877, 1.0, 1.0] with status: valid point\n",
      "--- 12.749622821807861 seconds ---\n",
      "new y = [-7.99999998e-01  1.35999999e+00  4.00000009e-02 -5.99999998e-01\n",
      " -2.19988769e-09]\n",
      "6 x suggested = [0.4441434540858671, 1.0, 1.0] with status: valid point\n",
      "--- 13.40952181816101 seconds ---\n",
      "new y = [-0.55585655  1.01247981  0.19726341 -0.35585655 -0.24414345]\n",
      "7 x suggested = [0.530916260414678, 1.0, 1.0] with status: valid point\n",
      "--- 15.269608974456787 seconds ---\n",
      "new y = [-0.46908374  1.00382326  0.28187208 -0.26908374 -0.33091626]\n",
      "8 x suggested = [0.20037699312881307, 1.0, 1.0] with status: valid point\n",
      "--- 13.539252758026123 seconds ---\n",
      "new y = [-7.99623007e-01  1.35909578e+00  4.01509394e-02 -5.99623007e-01\n",
      " -3.76993129e-04]\n",
      "9 x suggested = [0.7550508232561783, 0.0, 2.0] with status: valid point\n",
      "--- 42.673688650131226 seconds ---\n",
      "new y = [ 0.75505082  1.          0.57010175 -0.04494918 -0.55505082]\n",
      "Found approx pareto y_opt = [[-5.79566362236508, 3.9989516174004534, 0.041718618816132085], [-3.4879758157343543, 2.9904679926582127, 0.2779398698209533], [-5.340745119496608, 4.045412484358589, -0.021444985235269772], [0.21417205178240062, -2.818277127841463, 0.04587632893521004], [0.21278828000328764, -1.8108036982088958, 0.045286833697705864], [-0.497027654172996, 1.0000395855487985, 0.2529813141644575], [-1.7987069716192496, 1.9999933437719553, 0.04050769334867037], [-3.318034260133523, 2.984083100921907, 0.05015028278119648], [-3.793730348475115, 2.999976508644475, 0.042521557984573584], [-5.632157880666899, 3.979644060638601, 0.14026747276309987], [-0.7969085987460162, 1.3526189401198976, 0.0412460699244416], [-0.748549155395615, 1.247083697297462, 0.06322688545943245], [-1.4304091294831525, 1.9885277640122951, 0.22988787962984691], [-0.5717224920430549, 1.0205711127252206, 0.1834212431231317], [-3.692089304165932, 2.999559433293045, 0.08978617107710475], [-3.36716159884135, 2.9848124389315185, 0.02483969629281265], [-1.339806123275577, 1.9919153430296048, -0.02087605752577651], [-1.6132611672769135, 1.9949149333917033, 0.16539666981565032], [-5.357972888887614, 4.038291351072828, -0.0012461085549505648], [-0.6394989418766159, 1.0778030937820846, 0.12996004230333338], [-3.4183815399711373, 2.9867632595860365, 0.20244376877989434], [-1.5585725883393249, 1.9923816114340644, 0.23871922590256955], [-3.4609888020771, 2.9889500986219986, 0.2690267443948886], [-0.683423553129167, 1.1345299511536127, 0.10021954873116368], [-3.6081186261270792, 2.996848215086778, 0.17272107541675705], [-3.3268034129477635, 2.9841098069956873, 0.006806780359845386], [-1.4223762388968386, 1.9885407181361954, 0.21238063784750835], [-1.5710406113770796, 1.9929602151925867, 0.22404137586696926], [-1.6551180986438414, 1.9966878379865882, 0.11483379576348844], [-1.6529907054416615, 1.9966043427196216, 0.11685154355878528]] at x_opt = [[0.2043444174588063, 3.0, 2.0], [0.5119885932123285, 2.0, 2.0], [0.6589563663417166, 3.0, 2.0], [0.21418849509851387, 0.0, 0.0], [0.2128107116061529, 1.0, 0.0], [0.502972364280399, 1.0, 1.0], [0.20129294289974703, 1.0, 2.0], [0.6819156375658088, 2.0, 2.0], [0.20626950047174342, 2.0, 2.0], [0.3679864815591429, 3.0, 2.0], [0.20309139778253305, 1.0, 1.0], [0.25145087980299086, 1.0, 1.0], [0.5695573907410725, 1.0, 2.0], [0.4282775611680587, 1.0, 1.0], [0.30790843930296374, 2.0, 2.0], [0.6327885433476517, 2.0, 2.0], [0.6601736595076684, 1.0, 2.0], [0.38671507203018685, 1.0, 2.0], [0.6417748275489117, 3.0, 2.0], [0.3605011231692471, 1.0, 1.0], [0.5815727791599798, 2.0, 2.0], [0.4413973892711555, 1.0, 2.0], [0.5389712429283483, 2.0, 2.0], [0.31657650718521324, 1.0, 1.0], [0.3918674384050652, 2.0, 2.0], [0.6731462131604421, 2.0, 2.0], [0.5775908273952753, 1.0, 2.0], [0.42893062683832217, 1.0, 2.0], [0.3448638236311452, 1.0, 2.0], [0.3469909189428656, 1.0, 2.0]]\n"
     ]
    }
   ],
   "source": [
    "# We loop using the iteration budget\n",
    "n_iter = 10\n",
    "with_best=False\n",
    "for i in range(n_iter):\n",
    "    with_best = with_best or (i == n_iter - 1)\n",
    "    start_time = time.time()\n",
    "    x_suggested, status, x_opt, y_opt = optim.ask(with_best)\n",
    "    print(\"{} x suggested = {} with status: {}\".format(i, x_suggested, MOOptimization.STATUSES[status]))\n",
    "    print(\"--- %s seconds ---\" % (time.time() - start_time))\n",
    "    # compute objective functions & constraints  at the suggested point\n",
    "    new_y = f_grouped(cast_to_mixed_integer(xtypes=xtypes_options,xlimits=xlimits_options,x=x_suggested))[0]\n",
    "    print(\"new y = {}\".format(new_y))\n",
    "    \n",
    "    optim.tell(x_suggested, new_y)\n",
    "         \n",
    "print(\"Found approx pareto y_opt = {} at x_opt = {}\".format(y_opt, x_opt))"
   ]
  },
  {
   "cell_type": "code",
   "execution_count": null,
   "id": "5c48e2eb-fbba-4eb4-87a3-465907606ac3",
   "metadata": {},
   "outputs": [],
   "source": []
  },
  {
   "cell_type": "code",
   "execution_count": 31,
   "id": "41aadbe1",
   "metadata": {},
   "outputs": [
    {
     "data": {
      "image/png": "[encoded data removed]",
      "text/plain": [
       "<Figure size 432x288 with 1 Axes>"
      ]
     },
     "metadata": {
      "needs_background": "light"
     },
     "output_type": "display_data"
    },
    {
     "data": {
      "image/png": "[encoded data removed]",
      "text/plain": [
       "<Figure size 432x288 with 1 Axes>"
      ]
     },
     "metadata": {
      "needs_background": "light"
     },
     "output_type": "display_data"
    },
    {
     "data": {
      "image/png": "[encoded data removed]",
      "text/plain": [
       "<Figure size 432x288 with 1 Axes>"
      ]
     },
     "metadata": {
      "needs_background": "light"
     },
     "output_type": "display_data"
    }
   ],
   "source": [
    "import matplotlib.pyplot as plt\n",
    "\n",
    "x_opt = np.array(x_opt)\n",
    "y_opt = np.array(y_opt)\n",
    "\n",
    "plt.figure()\n",
    "plt.scatter(x_opt[:,0], x_opt[:,1], marker='x',label = 'approx BO')\n",
    "plt.xlabel('$x_0$')\n",
    "plt.ylabel('$x_1$')\n",
    "plt.legend()\n",
    "plt.title(\"design space\")\n",
    "plt.show()\n",
    "\n",
    "plt.figure()\n",
    "plt.scatter(x_opt[:,0], x_opt[:,2], marker='x',label = 'approx BO')\n",
    "plt.xlabel('$x_0$')\n",
    "plt.ylabel('$x_2$')\n",
    "plt.legend()\n",
    "plt.title(\"design space\")\n",
    "plt.show()\n",
    "\n",
    "plt.figure()\n",
    "plt.scatter( y_opt[:,0],  y_opt[:,1],marker='x', label = 'approx BO')\n",
    "plt.xlabel('f1')\n",
    "plt.ylabel('f2')\n",
    "plt.legend()\n",
    "plt.title(\"objective space\")\n",
    "plt.show()"
   ]
  },
  {
   "cell_type": "code",
   "execution_count": null,
   "id": "01843728-6940-4d0f-81ec-a0b6f66ccf03",
   "metadata": {},
   "outputs": [],
   "source": []
  }
 ],
 "metadata": {
  "kernelspec": {
   "display_name": "Python 3 (ipykernel)",
   "language": "python",
   "name": "python3"
  },
  "language_info": {
   "codemirror_mode": {
    "name": "ipython",
    "version": 3
   },
   "file_extension": ".py",
   "mimetype": "text/x-python",
   "name": "python",
   "nbconvert_exporter": "python",
   "pygments_lexer": "ipython3",
   "version": "3.8.5"
  }
 },
 "nbformat": 4,
 "nbformat_minor": 5
}
